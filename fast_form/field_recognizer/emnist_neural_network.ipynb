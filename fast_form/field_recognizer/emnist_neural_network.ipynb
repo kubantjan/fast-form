{
 "cells": [
  {
   "cell_type": "code",
   "execution_count": null,
   "metadata": {
    "colab": {
     "base_uri": "https://localhost:8080/",
     "height": 34
    },
    "colab_type": "code",
    "hideCode": false,
    "hidePrompt": false,
    "id": "_q0cMFx24Wbv",
    "outputId": "85e0e8b5-8433-4dd4-ea7b-3eab71388dc6"
   },
   "outputs": [],
   "source": [
    "import os\n",
    "\n",
    "import numpy as np\n",
    "import pandas as pd\n",
    "import PIL.Image\n",
    "from IPython.display import Image\n",
    "import cv2\n",
    "from keras.utils import np_utils\n",
    "import tensorflow as tf\n"
   ]
  },
  {
   "cell_type": "markdown",
   "metadata": {
    "colab_type": "text",
    "hideCode": false,
    "hidePrompt": false,
    "id": "i_UatpD-4Wb7"
   },
   "source": [
    "# init stuff"
   ]
  },
  {
   "cell_type": "code",
   "execution_count": null,
   "metadata": {
    "colab": {
     "base_uri": "https://localhost:8080/",
     "height": 34
    },
    "colab_type": "code",
    "id": "apx0dF7RA7Ua",
    "outputId": "d142d9fd-9538-47d0-f80b-939c8cf1cdb1"
   },
   "outputs": [],
   "source": [
    "# path_to_data=\"../training_data/\"\n",
    "# path_to_model=\"../model_data/\"\n",
    "# path_to_forms = \"../test/example_forms/unihack/\"\n",
    "# path_to_code = \"../\"\n",
    "\n",
    "\n",
    "from google.colab import drive\n",
    "drive.mount('/content/drive')\n",
    "path_to_data=\"/content/drive/My Drive/UniHack/Notebooks and data/\"\n",
    "path_to_model = \"/content/drive/My Drive/UniHack/Notebooks and data/model/\"\n",
    "path_to_forms = \"/content/drive/My Drive/UniHack/Notebooks and data/forms/\"\n",
    "path_to_code = \"/content/drive/My Drive/UniHack/fast-form/\"\n",
    "\n",
    "import sys\n",
    "sys.path += [path_to_code]"
   ]
  },
  {
   "cell_type": "code",
   "execution_count": null,
   "metadata": {
    "colab": {},
    "colab_type": "code",
    "hideCode": false,
    "hidePrompt": false,
    "id": "s0_MnkiY4WcA"
   },
   "outputs": [],
   "source": [
    "# TYPE=\"numbers\"\n",
    "TYPE=\"letters\"\n",
    "\n",
    "def is_the_type(x):\n",
    "    return ord(\"A\") <= x <= ord(\"Z\")\n",
    "    # return ord(\"0\") <= x <= ord(\"9\")\n",
    "\n",
    "\n",
    "with open(path_to_data + \"emnist-balanced-mapping.txt\") as f:\n",
    "    s = f.read()[:-1] # remove last char \\n\n",
    "a = [l.split(\" \") for l in s.split(\"\\n\")]\n",
    "original_mapper = {int(l[0]): chr(int(l[1])) for l in a if is_the_type(int(l[1]))}\n",
    "\n",
    "\n",
    "\n",
    "num_classes = len(original_mapper)\n",
    "\n",
    "to_substract = min(original_mapper.keys())\n",
    "\n",
    "res_mapper = {k - to_substract: v for k,v in original_mapper.items()}\n",
    "\n",
    "\n",
    "\n",
    "def filter_type(df):\n",
    "    return df[df.iloc[:,0].apply(lambda x: x in original_mapper.keys())]\n"
   ]
  },
  {
   "cell_type": "markdown",
   "metadata": {
    "colab_type": "text",
    "hideCode": false,
    "hidePrompt": false,
    "id": "oSLGxOJj4WcF"
   },
   "source": [
    "\n",
    "# Model training"
   ]
  },
  {
   "cell_type": "markdown",
   "metadata": {
    "colab_type": "text",
    "hideCode": false,
    "hidePrompt": false,
    "id": "fGg5_pLe4WcF"
   },
   "source": [
    "## load dataset"
   ]
  },
  {
   "cell_type": "code",
   "execution_count": null,
   "metadata": {
    "colab": {},
    "colab_type": "code",
    "id": "J035f4l3UZ_0"
   },
   "outputs": [],
   "source": [
    "train_loaded  = pd.read_csv(path_to_data + \"emnist-balanced-train.csv\")"
   ]
  },
  {
   "cell_type": "code",
   "execution_count": null,
   "metadata": {
    "colab": {},
    "colab_type": "code",
    "hideCode": false,
    "hidePrompt": false,
    "id": "7RsAk7704WcK"
   },
   "outputs": [],
   "source": [
    "IMAGE_SIZE = 28\n",
    "train_filtered = filter_type(train_loaded)\n",
    "\n",
    "from sklearn.model_selection import train_test_split\n",
    "\n",
    "y_all = train_filtered.iloc[:, 0] - to_substract\n",
    "X_all = train_filtered.iloc[:,1:].values.reshape([len(train_filtered),IMAGE_SIZE,IMAGE_SIZE,1])/255\n",
    "\n",
    "X_train, X_val, y_train, y_val = train_test_split(X_all, y_all, test_size=0.1, random_state=42)\n",
    "\n",
    "train_size = X_train.shape[0]\n",
    "validation_size = X_val.shape[0] "
   ]
  },
  {
   "cell_type": "markdown",
   "metadata": {
    "colab_type": "text",
    "hideCode": false,
    "hidePrompt": false,
    "id": "G9GhQDoP4WcO"
   },
   "source": [
    "## Model definition"
   ]
  },
  {
   "cell_type": "code",
   "execution_count": null,
   "metadata": {
    "colab": {
     "base_uri": "https://localhost:8080/",
     "height": 1000
    },
    "colab_type": "code",
    "id": "zZ8DvFZuTUAd",
    "outputId": "41ed65e3-74e6-419a-8332-668f42f18d1d"
   },
   "outputs": [],
   "source": [
    "from keras.layers import Conv2D, Input, LeakyReLU, Dense, Activation, Flatten, Dropout, MaxPool2D\n",
    "from keras import models\n",
    "from keras.optimizers import Adam,RMSprop \n",
    "from keras.preprocessing.image import ImageDataGenerator\n",
    "from keras.callbacks import ReduceLROnPlateau\n",
    "model = models.Sequential()\n",
    "# Block 1\n",
    "model.add(Conv2D(32,3, padding  =\"same\",input_shape=(28,28,1)))\n",
    "model.add(LeakyReLU())\n",
    "model.add(Conv2D(32,3, padding  =\"same\"))\n",
    "model.add(LeakyReLU())\n",
    "model.add(MaxPool2D(pool_size=(2,2)))\n",
    "model.add(Dropout(0.25))\n",
    "\n",
    "# Block 2\n",
    "model.add(Conv2D(64,3, padding  =\"same\"))\n",
    "model.add(LeakyReLU())\n",
    "model.add(Conv2D(64,3, padding  =\"same\"))\n",
    "model.add(LeakyReLU())\n",
    "model.add(MaxPool2D(pool_size=(2,2)))\n",
    "model.add(Dropout(0.25))\n",
    "\n",
    "model.add(Flatten())\n",
    "\n",
    "model.add(Dense(256,activation='relu'))\n",
    "model.add(Dense(num_classes,activation=\"softmax\"))\n",
    "\n",
    "initial_lr = 0.001\n",
    "loss = \"sparse_categorical_crossentropy\"\n",
    "model.compile(Adam(lr=initial_lr), loss=loss ,metrics=['accuracy'])\n",
    "tf.keras.utils.plot_model(model, show_shapes=True)"
   ]
  },
  {
   "cell_type": "code",
   "execution_count": null,
   "metadata": {
    "colab": {},
    "colab_type": "code",
    "id": "rUx-8LJStts_"
   },
   "outputs": [],
   "source": [
    "datagen = ImageDataGenerator(\n",
    "        featurewise_center=False,  # set input mean to 0 over the dataset\n",
    "        samplewise_center=False,  # set each sample mean to 0\n",
    "        featurewise_std_normalization=False,  # divide inputs by std of the dataset\n",
    "        samplewise_std_normalization=False,  # divide each input by its std\n",
    "        zca_whitening=False,  # apply ZCA whitening\n",
    "        rotation_range=20,  # randomly rotate images in the range (degrees, 0 to 180)\n",
    "        zoom_range = 0.1, # Randomly zoom image \n",
    "        width_shift_range=0.15,  # randomly shift images horizontally (fraction of total width)\n",
    "        height_shift_range=0.15,  # randomly shift images vertically (fraction of total height)\n",
    "        horizontal_flip=False,  # randomly flip images\n",
    "        vertical_flip=False, # randomly flip images\n",
    "        ) \n",
    "\n",
    "datagen.fit(X_train)\n",
    "\n",
    "\n",
    "lrr = ReduceLROnPlateau(monitor='val_accuracy',patience=2,verbose=1,factor=0.5, min_lr=0.00001)"
   ]
  },
  {
   "cell_type": "code",
   "execution_count": null,
   "metadata": {
    "colab": {
     "base_uri": "https://localhost:8080/",
     "height": 765
    },
    "colab_type": "code",
    "id": "P2VAy0i5Tswi",
    "outputId": "2f731546-696e-4a4f-9948-bf33f2d6eeb9"
   },
   "outputs": [],
   "source": [
    "epochs = 20\n",
    "batch_size = 256\n",
    "# history = model.fit(X_train,y_train,batch_size=batch_size,epochs=epochs,validation_data=(X_val, y_val))\n",
    "\n",
    "history = model.fit_generator(\n",
    "    datagen.flow(X_train,y_train, batch_size=batch_size),\n",
    "    steps_per_epoch=int(X_train.shape[0]*0.9/batch_size)+1,\n",
    "    epochs=epochs,\n",
    "    callbacks=[lrr],\n",
    "    validation_data= (X_val, y_val)\n",
    "    )"
   ]
  },
  {
   "cell_type": "code",
   "execution_count": null,
   "metadata": {
    "colab": {
     "base_uri": "https://localhost:8080/",
     "height": 467
    },
    "colab_type": "code",
    "id": "G49FX-fzYRn4",
    "outputId": "c20a75cb-f92d-4d55-fda7-2869e67d945e"
   },
   "outputs": [],
   "source": [
    "import matplotlib.pyplot as plt\n",
    "\n",
    "# Diffining Figure\n",
    "f = plt.figure(figsize=(20,7))\n",
    "\n",
    "#Adding Subplot 1 (For Accuracy)\n",
    "f.add_subplot(111)\n",
    "\n",
    "plt.plot(history.epoch,history.history['accuracy'],label = \"accuracy\") # Accuracy curve for training set\n",
    "plt.plot(history.epoch,history.history['val_accuracy'],label = \"val_accuracy\") # Accuracy curve for validation set\n",
    "\n",
    "plt.title(\"Accuracy Curve\",fontsize=18)\n",
    "plt.xlabel(\"Epochs\",fontsize=15)\n",
    "plt.ylabel(\"Accuracy\",fontsize=15)\n",
    "plt.grid(alpha=0.3)\n",
    "plt.legend()\n",
    "\n",
    "plt.show()"
   ]
  },
  {
   "cell_type": "code",
   "execution_count": null,
   "metadata": {
    "colab": {
     "base_uri": "https://localhost:8080/",
     "height": 1000
    },
    "colab_type": "code",
    "id": "DcmOoxkO4I6X",
    "outputId": "cf08c124-e91f-4c83-db30-9556c7c86f0f"
   },
   "outputs": [],
   "source": [
    "from sklearn.metrics import confusion_matrix, classification_report\n",
    "rows = 10\n",
    "cols = 11\n",
    "X = X_val\n",
    "y = y_val\n",
    "y_p = np.argmax(model.predict(X),axis =1)\n",
    "fig = plt.figure()\n",
    "fig.set_size_inches(15,15)\n",
    "cm = confusion_matrix(y, y_p)\n",
    "plt.imshow(cm, cmap=plt.cm.Blues)\n",
    "plt.xlabel(\"Predicted labels\")\n",
    "plt.ylabel(\"True labels\")\n",
    "names = target_names=res_mapper.values()\n",
    "ticks = np.arange(len(names))\n",
    "plt.xticks(ticks, names)\n",
    "plt.yticks(ticks, names)\n",
    "plt.title('Confusion matrix ')\n",
    "plt.colorbar()\n",
    "plt.grid()\n",
    "plt.savefig(\"confusion_matrix.png\")\n",
    "plt.show()\n",
    "\n",
    "report  = classification_report(y, y_p, target_names=res_mapper.values())\n",
    "print(report)\n",
    "\n",
    "\n",
    "mistakes = (y!=y_p).values\n",
    "print(f\"number of mistakes overall: {mistakes.sum()}\")\n",
    "f = plt.figure(figsize=(2*cols,2*rows))\n",
    "sub_plot = 1\n",
    "\n",
    "y_m = y[mistakes]\n",
    "y_p_m =y_p[mistakes]\n",
    "x_m = X[mistakes]\n",
    "print(\"example mistakes\")\n",
    "for label, prediction, image in zip(y_m, y_p_m, x_m):\n",
    "  if sub_plot>rows*cols:\n",
    "    break\n",
    "  f.add_subplot(rows,cols,sub_plot) \n",
    "  sub_plot+=1\n",
    "\n",
    "\n",
    "  plt.imshow(np.transpose(image.reshape([IMAGE_SIZE,IMAGE_SIZE])),cmap=\"Blues\")\n",
    "  plt.axis(\"off\")\n",
    "  plt.title(\"T: \"+res_mapper[label]+\" P:\"+res_mapper[prediction], y=-0.15,color=\"Red\")\n",
    "plt.savefig(\"error_plots.png\")\n",
    "plt.show()"
   ]
  },
  {
   "cell_type": "markdown",
   "metadata": {
    "colab_type": "text",
    "hideCode": false,
    "hidePrompt": false,
    "id": "EyLXKfvE4Wcb"
   },
   "source": [
    "## model save"
   ]
  },
  {
   "cell_type": "code",
   "execution_count": null,
   "metadata": {
    "colab": {
     "base_uri": "https://localhost:8080/",
     "height": 34
    },
    "colab_type": "code",
    "hideCode": false,
    "hidePrompt": false,
    "id": "jI-mx7bX4Wcc",
    "outputId": "3aa17f6e-063a-4355-bda2-da6e6da90a02"
   },
   "outputs": [],
   "source": [
    "import json\n",
    " \n",
    "# serialize model to JSON\n",
    "model_json = model.to_json()\n",
    "with open(f\"{path_to_model}model_{TYPE}.json\", \"w\") as json_file:\n",
    "    json_file.write(model_json)\n",
    "# serialize weights to HDF5\n",
    "model.save_weights(f\"{path_to_model}model_{TYPE}.h5\")\n",
    "\n",
    " \n",
    "with open(f\"{path_to_model}model_{TYPE}_mapping.json\", \"w\") as json_file:\n",
    "    json.dump(res_mapper, json_file)\n",
    "    \n",
    "\n",
    "print(\"Saved model to disk\")\n"
   ]
  },
  {
   "cell_type": "markdown",
   "metadata": {
    "colab_type": "text",
    "hideCode": false,
    "hidePrompt": false,
    "id": "8CmpOqYH4Wcg"
   },
   "source": [
    "# Testing the model"
   ]
  },
  {
   "cell_type": "markdown",
   "metadata": {
    "colab_type": "text",
    "hideCode": false,
    "hidePrompt": false,
    "id": "_mbFTvQz4Wcg"
   },
   "source": [
    "## model load"
   ]
  },
  {
   "cell_type": "code",
   "execution_count": null,
   "metadata": {
    "colab": {
     "base_uri": "https://localhost:8080/",
     "height": 34
    },
    "colab_type": "code",
    "hideCode": false,
    "hidePrompt": false,
    "id": "nCfOHKQC4Wch",
    "outputId": "fa486fbd-15be-4256-d819-470af200d345"
   },
   "outputs": [],
   "source": [
    "from keras.models import model_from_json\n",
    "\n",
    "test_db  = pd.read_csv(path_to_data + \"emnist-balanced-enriched-test.csv\")\n",
    "test_filtered = filter_type(test_db)\n",
    "y = test_filtered.iloc[:,0] - to_substract\n",
    "\n",
    "X = (\n",
    "    test_filtered.iloc[:,1:]\n",
    "    .values\n",
    "    .reshape([len(test_filtered),IMAGE_SIZE,IMAGE_SIZE,1])/255\n",
    ")\n",
    "\n",
    "# load json and create model\n",
    "json_file = open(path_to_model + f'model_{TYPE}.json', 'r')\n",
    "loaded_model_json = json_file.read()\n",
    "json_file.close()\n",
    "model = model_from_json(loaded_model_json)\n",
    "# load weights into new model\n",
    "model.load_weights(path_to_model + f'model_{TYPE}.h5')\n",
    "print(\"Loaded model from disk\")\n",
    " \n",
    "# evaluate loaded model on test data\n",
    "initial_lr = 0.001\n",
    "loss = \"sparse_categorical_crossentropy\"\n",
    "model.compile(Adam(lr=initial_lr), loss=loss ,metrics=['accuracy'])\n",
    "\n",
    "y_p = np.argmax(model.predict(X),axis =1)"
   ]
  },
  {
   "cell_type": "code",
   "execution_count": null,
   "metadata": {
    "colab": {
     "base_uri": "https://localhost:8080/",
     "height": 1000
    },
    "colab_type": "code",
    "id": "4L_n-AXGDaMk",
    "outputId": "4f27ad6f-ceaf-42fc-cea7-fbb317d20f8a"
   },
   "outputs": [],
   "source": [
    "\n",
    "fig = plt.figure()\n",
    "fig.set_size_inches(15,15)\n",
    "cm = confusion_matrix(y, y_p)\n",
    "plt.imshow(cm, cmap=plt.cm.Blues)\n",
    "plt.xlabel(\"Predicted labels\")\n",
    "plt.ylabel(\"True labels\")\n",
    "names = target_names=res_mapper.values()\n",
    "ticks = np.arange(len(names))\n",
    "plt.xticks(ticks, names)\n",
    "plt.yticks(ticks, names)\n",
    "plt.title('Confusion matrix ')\n",
    "plt.colorbar()\n",
    "plt.grid()\n",
    "plt.show()\n",
    "\n",
    "report  = classification_report(y, y_p, target_names=res_mapper.values())\n",
    "print(report)\n",
    "\n",
    "\n",
    "rows = 3\n",
    "cols = 11\n",
    "mistakes = (y!=y_p).values\n",
    "print(f\"number of mistakes overall: {mistakes.sum()}\")\n",
    "f = plt.figure(figsize=(2*cols,2*rows))\n",
    "sub_plot = 1\n",
    "\n",
    "y_m = y[mistakes]\n",
    "y_p_m =y_p[mistakes]\n",
    "x_m = X[mistakes]\n",
    "print(\"example mistakes\")\n",
    "for label, prediction, image in zip(y_m, y_p_m, x_m):\n",
    "  if sub_plot>rows*cols:\n",
    "    break\n",
    "  f.add_subplot(rows,cols,sub_plot) \n",
    "  sub_plot+=1\n",
    "\n",
    "\n",
    "  plt.imshow(np.transpose(image.reshape([IMAGE_SIZE,IMAGE_SIZE])),cmap=\"Blues\")\n",
    "  plt.axis(\"off\")\n",
    "  plt.title(\"T: \"+res_mapper[label]+\" P:\"+res_mapper[prediction], y=-0.15,color=\"Red\")\n",
    "plt.savefig(\"error_plots.png\")\n",
    "plt.show()"
   ]
  },
  {
   "cell_type": "markdown",
   "metadata": {
    "colab_type": "text",
    "hideCode": false,
    "hidePrompt": false,
    "id": "VOBN81l74Wcm"
   },
   "source": [
    "## Display data from dataset"
   ]
  },
  {
   "cell_type": "markdown",
   "metadata": {
    "colab_type": "text",
    "hideCode": false,
    "hidePrompt": false,
    "id": "GmF3LvQN4Wcz"
   },
   "source": [
    "## data from our forms"
   ]
  },
  {
   "cell_type": "markdown",
   "metadata": {
    "colab_type": "text",
    "id": "lF3CHPvVKMqK"
   },
   "source": []
  },
  {
   "cell_type": "code",
   "execution_count": null,
   "metadata": {
    "colab": {},
    "colab_type": "code",
    "hideCode": false,
    "hidePrompt": false,
    "id": "1RIud_Yg4Wc0"
   },
   "outputs": [],
   "source": [
    "from structure_parser.formstructureparser import FormStructureParser\n",
    "from field_recognizer.recognize_all import recognize\n",
    "from preprocessing.preprocess import preprocess\n",
    "import json\n",
    "from field_recognizer.model import load_model, load_result_mapper\n",
    "from main import process_document, output_data\n",
    "image_path = path_to_forms + \"scan1.jpg\"\n",
    "with open(path_to_forms + \"config.json\", 'r') as f:\n",
    "    config = json.load(f) \n",
    "\n",
    "fsp = FormStructureParser(config)\n",
    "\n",
    "im = cv2.imread(image_path)\n",
    "\n",
    "im = preprocess(im, config)\n",
    "form_data = fsp.process_form(im)"
   ]
  },
  {
   "cell_type": "code",
   "execution_count": null,
   "metadata": {
    "colab": {},
    "colab_type": "code",
    "hideCode": false,
    "hidePrompt": false,
    "id": "NB1BBzrs4Wc4"
   },
   "outputs": [],
   "source": [
    "imgs = [im for field in form_data[\"fields\"] for im in field[\"box_data\"] if field[\"type\"] ==TYPE]"
   ]
  },
  {
   "cell_type": "code",
   "execution_count": null,
   "metadata": {
    "colab": {},
    "colab_type": "code",
    "hideCode": false,
    "hidePrompt": false,
    "id": "415TacXw4Wc7"
   },
   "outputs": [],
   "source": [
    "# preproces to training format\n",
    "from field_recognizer.recognize_letters import preprocess_img, prepare_for_model_format, resize, thicken\n",
    "\n",
    "def predict(img):\n",
    "  img_m = 1-img.reshape(1,IMAGE_SIZE,IMAGE_SIZE,1).transpose()/255  \n",
    "  \n",
    "  pred = model.predict(img_m)\n",
    "  pred_val = res_mapper.get(pred[0].argmax())\n",
    "  \n",
    "  conf_dict = {res_mapper.get(i):round(v,3) for i,v in enumerate(pred[0])}\n",
    "  conf_dict = {k: v for k, v in sorted(conf_dict.items(), key=lambda item: item[1], reverse=True) if v>0} # sort\n",
    "  print(pred_val)\n",
    "  print(conf_dict)\n",
    "\n"
   ]
  },
  {
   "cell_type": "code",
   "execution_count": null,
   "metadata": {
    "colab": {
     "base_uri": "https://localhost:8080/",
     "height": 1000
    },
    "colab_type": "code",
    "hideCode": false,
    "hidePrompt": false,
    "id": "xXekzaPg4Wc9",
    "outputId": "465bbf5b-dcd7-47cf-ab1f-ba6958e223bf"
   },
   "outputs": [],
   "source": [
    "for img in [img for img in imgs if len(img)>0]:\n",
    "    print (\"=================================\")\n",
    "    print(\"original:\")\n",
    "    display(PIL.Image.fromarray(img))\n",
    "    img = resize(img,28,1)\n",
    "    # img = resize(thicken(img),28,4)\n",
    "    # img = preprocess_img(img)\n",
    "    print(\"preprocessed:\")\n",
    "    display(PIL.Image.fromarray(cv2.resize(img,(60,60))))\n",
    "    predict(img)"
   ]
  },
  {
   "cell_type": "code",
   "execution_count": null,
   "metadata": {
    "colab": {},
    "colab_type": "code",
    "id": "6SRVlC_QMuG0"
   },
   "outputs": [],
   "source": []
  }
 ],
 "metadata": {
  "accelerator": "GPU",
  "colab": {
   "collapsed_sections": [],
   "name": "emnist-neural-network.ipynb",
   "provenance": []
  },
  "hide_code_all_hidden": false,
  "hide_input": false,
  "kernelspec": {
   "display_name": "Python 3",
   "language": "python",
   "name": "python3"
  },
  "language_info": {
   "codemirror_mode": {
    "name": "ipython",
    "version": 3
   },
   "file_extension": ".py",
   "mimetype": "text/x-python",
   "name": "python",
   "nbconvert_exporter": "python",
   "pygments_lexer": "ipython3",
   "version": "3.7.7"
  },
  "toc": {
   "base_numbering": 1,
   "nav_menu": {},
   "number_sections": true,
   "sideBar": true,
   "skip_h1_title": false,
   "title_cell": "Table of Contents",
   "title_sidebar": "Contents",
   "toc_cell": false,
   "toc_position": {},
   "toc_section_display": true,
   "toc_window_display": false
  },
  "varInspector": {
   "cols": {
    "lenName": 16,
    "lenType": 16,
    "lenVar": 40
   },
   "kernels_config": {
    "python": {
     "delete_cmd_postfix": "",
     "delete_cmd_prefix": "del ",
     "library": "var_list.py",
     "varRefreshCmd": "print(var_dic_list())"
    },
    "r": {
     "delete_cmd_postfix": ") ",
     "delete_cmd_prefix": "rm(",
     "library": "var_list.r",
     "varRefreshCmd": "cat(var_dic_list()) "
    }
   },
   "types_to_exclude": [
    "module",
    "function",
    "builtin_function_or_method",
    "instance",
    "_Feature"
   ],
   "window_display": false
  }
 },
 "nbformat": 4,
 "nbformat_minor": 0
}
