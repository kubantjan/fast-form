{
 "cells": [
  {
   "cell_type": "code",
   "execution_count": null,
   "metadata": {
    "ExecuteTime": {
     "end_time": "2020-05-07T16:17:53.182648Z",
     "start_time": "2020-05-07T16:17:52.886786Z"
    },
    "hideCode": false,
    "hidePrompt": false
   },
   "outputs": [],
   "source": [
    "import os\n",
    "\n",
    "import numpy as np\n",
    "import pandas as pd\n",
    "import PIL.Image\n",
    "from IPython.display import Image\n",
    "import cv2"
   ]
  },
  {
   "cell_type": "code",
   "execution_count": null,
   "metadata": {
    "ExecuteTime": {
     "end_time": "2020-05-07T16:17:53.192412Z",
     "start_time": "2020-05-07T16:17:53.184399Z"
    },
    "hideCode": false,
    "hidePrompt": false
   },
   "outputs": [],
   "source": [
    "os.chdir(\"../\")\n",
    "os.getcwd()"
   ]
  },
  {
   "cell_type": "markdown",
   "metadata": {
    "hideCode": false,
    "hidePrompt": false
   },
   "source": [
    "# init stuff"
   ]
  },
  {
   "cell_type": "code",
   "execution_count": null,
   "metadata": {
    "ExecuteTime": {
     "end_time": "2020-05-07T16:17:54.330980Z",
     "start_time": "2020-05-07T16:17:53.194459Z"
    },
    "hideCode": false,
    "hidePrompt": false
   },
   "outputs": [],
   "source": [
    "from keras.utils import np_utils"
   ]
  },
  {
   "cell_type": "code",
   "execution_count": null,
   "metadata": {
    "ExecuteTime": {
     "end_time": "2020-05-07T17:41:10.758462Z",
     "start_time": "2020-05-07T17:41:10.711250Z"
    },
    "hideCode": false,
    "hidePrompt": false
   },
   "outputs": [],
   "source": [
    "TYPE=\"numbers\"\n",
    "# TYPE=\"letters\"\n",
    "\n",
    "def is_the_type(x):\n",
    "#     return ord(\"A\") <= x <= ord(\"Z\")\n",
    "    return ord(\"0\") <= x <= ord(\"9\")\n",
    "\n",
    "\n",
    "with open(\"training_data/emnist-balanced-mapping.txt\") as f:\n",
    "    s = f.read()[:-1] # remove last char \\n\n",
    "a = [l.split(\" \") for l in s.split(\"\\n\")]\n",
    "original_mapper = {int(l[0]): chr(int(l[1])) for l in a if is_the_type(int(l[1]))}\n",
    "\n",
    "\n",
    "\n",
    "num_classes = len(original_mapper)\n",
    "\n",
    "to_substract = min(original_mapper.keys())\n",
    "\n",
    "res_mapper = {k - to_substract: v for k,v in original_mapper.items()}\n",
    "\n",
    "\n",
    "\n",
    "def filter_letters(df):\n",
    "    return df[df.iloc[:,0].apply(lambda x: x in original_mapper.keys())]\n",
    "\n",
    "print(original_mapper)\n"
   ]
  },
  {
   "cell_type": "markdown",
   "metadata": {
    "hideCode": false,
    "hidePrompt": false
   },
   "source": [
    "\n",
    "# Model training"
   ]
  },
  {
   "cell_type": "markdown",
   "metadata": {
    "hideCode": false,
    "hidePrompt": false
   },
   "source": [
    "## load dataset"
   ]
  },
  {
   "cell_type": "code",
   "execution_count": null,
   "metadata": {
    "ExecuteTime": {
     "end_time": "2020-05-07T16:18:09.762812Z",
     "start_time": "2020-05-07T16:17:54.342348Z"
    },
    "_cell_guid": "f2e9cf0b-4025-4de3-b57b-bae842beef1c",
    "_uuid": "4e52b01454a737738ed560d4e25bf770572d57e2",
    "hideCode": false,
    "hidePrompt": false
   },
   "outputs": [],
   "source": [
    "train_db = pd.read_csv(\"training_data/emnist-balanced-enriched-train.csv\", header=None)\n",
    "test_db  = pd.read_csv(\"training_data/emnist-balanced-enriched-test.csv\", header = None)"
   ]
  },
  {
   "cell_type": "code",
   "execution_count": null,
   "metadata": {
    "ExecuteTime": {
     "end_time": "2020-05-07T16:18:10.419933Z",
     "start_time": "2020-05-07T16:18:09.764457Z"
    },
    "hideCode": false,
    "hidePrompt": false
   },
   "outputs": [],
   "source": [
    "train_db = filter_letters(train_db)\n",
    "test_db = filter_letters(test_db)\n",
    "\n",
    "train_db.loc[:,0] = train_db[0] -  to_substract\n",
    "test_db.loc[:,0] = test_db[0] -  to_substract"
   ]
  },
  {
   "cell_type": "markdown",
   "metadata": {
    "hideCode": false,
    "hidePrompt": false
   },
   "source": [
    "First, you might want to enrich the dataset - in separate notebook."
   ]
  },
  {
   "cell_type": "markdown",
   "metadata": {
    "hideCode": false,
    "hidePrompt": false
   },
   "source": [
    "## training itself model"
   ]
  },
  {
   "cell_type": "code",
   "execution_count": null,
   "metadata": {
    "ExecuteTime": {
     "end_time": "2020-05-07T16:18:10.437379Z",
     "start_time": "2020-05-07T16:18:10.428233Z"
    }
   },
   "outputs": [],
   "source": [
    "\n",
    "y_train = train_db.iloc[:,0] \n",
    "y_train = np_utils.to_categorical(y_train, num_classes)\n"
   ]
  },
  {
   "cell_type": "code",
   "execution_count": null,
   "metadata": {
    "ExecuteTime": {
     "end_time": "2020-05-07T16:19:19.467855Z",
     "start_time": "2020-05-07T16:18:10.440741Z"
    },
    "_cell_guid": "db92487d-656a-4cec-958a-0c0c2864a2e6",
    "_uuid": "6124d2bf78a6b9b237cd4e25c0ae3986f060abbd",
    "hideCode": false,
    "hidePrompt": false
   },
   "outputs": [],
   "source": [
    "from keras.utils import np_utils\n",
    "from keras.layers import Input, Dense, Dropout\n",
    "from keras.models import Model\n",
    "\n",
    "y_train = train_db.iloc[:,0]\n",
    "y_train = np_utils.to_categorical(y_train, num_classes)\n",
    "print (\"y_train:\", y_train.shape)\n",
    "\n",
    "x_train = train_db.iloc[:,1:]\n",
    "x_train = x_train.astype('float32')\n",
    "x_train /= 255\n",
    "print (\"x_train:\",x_train.shape)\n",
    "\n",
    "inp = Input(shape=(784,))\n",
    "hidden_1 = Dense(1024, activation='relu')(inp)\n",
    "dropout_1 = Dropout(0.2)(hidden_1)\n",
    "out = Dense(num_classes, activation='softmax')(hidden_1)\n",
    "model = Model(input=inp, output=out)\n",
    "\n",
    "model.compile(loss='categorical_crossentropy', # using the cross-entropy loss function\n",
    "              optimizer='adam', # using the Adam optimiser\n",
    "              metrics=['accuracy']) # reporting the accuracy\n",
    "\n",
    "model.fit(x_train, y_train, # Train the model using the training set...\n",
    "          batch_size=512, nb_epoch=10,\n",
    "          verbose=1, validation_split=0.1) # ...holding out 10% of the data for validation\n",
    "\n",
    "y_test = test_db.iloc[:,0]\n",
    "y_test = np_utils.to_categorical(y_test, num_classes)\n",
    "print (\"y_test:\", y_test.shape)\n",
    "\n",
    "x_test = test_db.iloc[:,1:]\n",
    "x_test = x_test.astype('float32')\n",
    "x_test /= 255\n",
    "print (\"x_test:\",x_train.shape)\n",
    "\n",
    "print(model.evaluate(x_test, y_test, verbose=1)) # Evaluate the trained model on the test set!"
   ]
  },
  {
   "cell_type": "code",
   "execution_count": null,
   "metadata": {
    "ExecuteTime": {
     "end_time": "2020-05-07T16:19:20.487268Z",
     "start_time": "2020-05-07T16:19:19.469931Z"
    },
    "hideCode": false,
    "hidePrompt": false
   },
   "outputs": [],
   "source": [
    "scores = model.evaluate(x_test, y_test, verbose=0)\n",
    "print(\"%s: %.2f%%\" % (model.metrics_names[1], scores[1]*100))"
   ]
  },
  {
   "cell_type": "markdown",
   "metadata": {
    "hideCode": false,
    "hidePrompt": false
   },
   "source": [
    "## model save"
   ]
  },
  {
   "cell_type": "code",
   "execution_count": null,
   "metadata": {
    "ExecuteTime": {
     "end_time": "2020-05-07T16:19:21.517030Z",
     "start_time": "2020-05-07T16:19:20.488812Z"
    },
    "hideCode": false,
    "hidePrompt": false
   },
   "outputs": [],
   "source": [
    "import json\n",
    "scores = model.evaluate(x_test, y_test, verbose=0)\n",
    "print(\"%s: %.2f%%\" % (model.metrics_names[1], scores[1]*100))\n",
    " \n",
    "# serialize model to JSON\n",
    "model_json = model.to_json()\n",
    "with open(f\"model_data/model_{TYPE}.json\", \"w\") as json_file:\n",
    "    json_file.write(model_json)\n",
    "# serialize weights to HDF5\n",
    "model.save_weights(f\"model_data/model_{TYPE}.h5\")\n",
    "\n",
    " \n",
    "with open(f\"model_data/model_{TYPE}_mapping.json\", \"w\") as json_file:\n",
    "    json.dump(res_mapper, json_file)\n",
    "    \n",
    "\n",
    "print(\"Saved model to disk\")\n"
   ]
  },
  {
   "cell_type": "markdown",
   "metadata": {
    "hideCode": false,
    "hidePrompt": false
   },
   "source": [
    "# Testing the model"
   ]
  },
  {
   "cell_type": "markdown",
   "metadata": {
    "hideCode": false,
    "hidePrompt": false
   },
   "source": [
    "## model load"
   ]
  },
  {
   "cell_type": "code",
   "execution_count": null,
   "metadata": {
    "ExecuteTime": {
     "end_time": "2020-05-07T17:45:39.757638Z",
     "start_time": "2020-05-07T17:45:37.826842Z"
    },
    "hideCode": false,
    "hidePrompt": false
   },
   "outputs": [],
   "source": [
    "from keras.models import model_from_json\n",
    "\n",
    "test_db  = pd.read_csv(\"training_data/emnist-balanced-enriched-test.csv\")\n",
    "test_db = filter_letters(test_db)\n",
    "y_test = test_db.iloc[:,0]\n",
    "y_test = np_utils.to_categorical(y_test, num_classes)\n",
    "test_db.loc[:,0] = test_db[0] -  to_substract\n",
    "\n",
    "x_test = test_db.iloc[:,1:]\n",
    "x_test = x_test.astype('float32')\n",
    "x_test /= 255\n",
    "\n",
    "\n",
    "# load json and create model\n",
    "json_file = open('model_data/model.json', 'r')\n",
    "loaded_model_json = json_file.read()\n",
    "json_file.close()\n",
    "model = model_from_json(loaded_model_json)\n",
    "# load weights into new model\n",
    "model.load_weights(\"model_data/model.h5\")\n",
    "print(\"Loaded model from disk\")\n",
    " \n",
    "# evaluate loaded model on test data\n",
    "model.compile(loss='categorical_crossentropy', # using the cross-entropy loss function\n",
    "              optimizer='adam', # using the Adam optimiser\n",
    "              metrics=['accuracy']) # reporting the accuracy\n",
    "\n",
    "\n",
    "scores = model.evaluate(x_test, y_test, verbose=0)\n",
    "print(\"%s: %.2f%%\" % (model.metrics_names[1], scores[1]*100))"
   ]
  },
  {
   "cell_type": "markdown",
   "metadata": {
    "hideCode": false,
    "hidePrompt": false
   },
   "source": [
    "## Display data from dataset"
   ]
  },
  {
   "cell_type": "code",
   "execution_count": null,
   "metadata": {
    "ExecuteTime": {
     "end_time": "2020-05-07T16:21:02.560829Z",
     "start_time": "2020-05-07T16:21:02.553848Z"
    },
    "hideCode": false,
    "hidePrompt": false
   },
   "outputs": [],
   "source": [
    "def show_letter_from_db(img):\n",
    "    img = img.astype('uint8')\n",
    "    img = img.reshape((28,28))\n",
    "    img = img.transpose()\n",
    "    img = cv2.bitwise_not(img)\n",
    "    \n",
    "    display(PIL.Image.fromarray(img))\n",
    "    return img"
   ]
  },
  {
   "cell_type": "code",
   "execution_count": null,
   "metadata": {
    "ExecuteTime": {
     "end_time": "2020-05-07T16:21:03.770069Z",
     "start_time": "2020-05-07T16:21:03.765521Z"
    },
    "hideCode": false,
    "hidePrompt": false
   },
   "outputs": [],
   "source": [
    "def revert_showing(img):\n",
    "    img = cv2.bitwise_not(img)\n",
    "    img = img.transpose()\n",
    "    img = img.ravel()\n",
    "    img = img.astype('int64') \n",
    "    return img"
   ]
  },
  {
   "cell_type": "code",
   "execution_count": null,
   "metadata": {
    "ExecuteTime": {
     "end_time": "2020-05-07T16:21:04.994200Z",
     "start_time": "2020-05-07T16:21:04.989520Z"
    },
    "hideCode": false,
    "hidePrompt": false
   },
   "outputs": [],
   "source": [
    "def display_char(i):\n",
    "    label = test_db.iloc[i].values[0]\n",
    "    char = res_mapper.get(label)\n",
    "    print(\"=============\")\n",
    "    print(f\"label: {char}\")\n",
    "    \n",
    "    img = test_db.iloc[i].values[1:]\n",
    "    print(\"showing original\")\n",
    "    img_new=show_letter_from_db(img)\n",
    "    \n",
    "    img = revert_showing(img_new)\n",
    "    \n",
    "    pred = model.predict(np.array([img]))\n",
    "    pred_val = res_mapper.get(pred[0].argmax())\n",
    "    print(f\"Prediction: {pred_val}\")\n",
    "    print(\"showing the one prediction run on\")\n",
    "    show_letter_from_db(img)"
   ]
  },
  {
   "cell_type": "code",
   "execution_count": null,
   "metadata": {
    "ExecuteTime": {
     "end_time": "2020-05-07T16:21:06.094651Z",
     "start_time": "2020-05-07T16:21:05.958486Z"
    },
    "hideCode": false,
    "hidePrompt": false,
    "scrolled": false
   },
   "outputs": [],
   "source": [
    "for i in range (10):\n",
    "    display_char(i)"
   ]
  },
  {
   "cell_type": "markdown",
   "metadata": {
    "hideCode": false,
    "hidePrompt": false
   },
   "source": [
    "## data from our forms"
   ]
  },
  {
   "cell_type": "code",
   "execution_count": null,
   "metadata": {
    "ExecuteTime": {
     "end_time": "2020-05-07T16:21:07.483141Z",
     "start_time": "2020-05-07T16:21:07.319384Z"
    },
    "hideCode": false,
    "hidePrompt": false
   },
   "outputs": [],
   "source": [
    "from structure_parser.formstructureparser import FormStructureParser\n",
    "from field_recognizer.recognize_all import recognize\n",
    "from preprocessing.preprocess import preprocess\n",
    "\n",
    "from field_recognizer.model import load_model, load_result_mapper\n",
    "from main import process_document, output_data\n",
    "image_path = \"test/example_forms/unihack/scan1.jpg\"\n",
    "with open(\"test/example_forms/unihack/config.json\", 'r') as f:\n",
    "    config = json.load(f) \n",
    "\n",
    "fsp = FormStructureParser(config)\n",
    "\n",
    "im = cv2.imread(image_path)\n",
    "\n",
    "im = preprocess(im, config)\n",
    "form_data = fsp.process_form(im)"
   ]
  },
  {
   "cell_type": "code",
   "execution_count": null,
   "metadata": {
    "ExecuteTime": {
     "end_time": "2020-05-07T16:21:09.182874Z",
     "start_time": "2020-05-07T16:21:09.180413Z"
    },
    "hideCode": false,
    "hidePrompt": false
   },
   "outputs": [],
   "source": [
    "imgs = [im for field in form_data[\"fields\"] for im in field[\"box_data\"] if field[\"type\"] ==TYPE]"
   ]
  },
  {
   "cell_type": "code",
   "execution_count": null,
   "metadata": {
    "ExecuteTime": {
     "end_time": "2020-05-07T16:21:10.800096Z",
     "start_time": "2020-05-07T16:21:10.794053Z"
    },
    "hideCode": false,
    "hidePrompt": false
   },
   "outputs": [],
   "source": [
    "# preproces to training format\n",
    "from field_recognizer.recognize_letters import preprocess_img, prepare_for_model_format\n",
    "\n",
    "def preproces(img):\n",
    "#     label = test_db.iloc[i].values[0]\n",
    "#     char = res_mapper.get(label)ma\n",
    "#     print(f\"label: {char}\")\n",
    "\n",
    "    img = preprocess_img(img)\n",
    "    img_m = prepare_for_model_format(img)\n",
    "        \n",
    "    img_m = img_m.astype('float32')\n",
    "    img_m /= 255\n",
    "    \n",
    "    \n",
    "    pred = model.predict(np.array([img_m]))\n",
    "    pred_val = res_mapper.get(pred[0].argmax())\n",
    "    \n",
    "    conf_dict = {res_mapper.get(i):round(v,3) for i,v in enumerate(pred[0])}\n",
    "    conf_dict = {k: v for k, v in sorted(conf_dict.items(), key=lambda item: item[1], reverse=True) if v>0} # sort\n",
    "    print(pred_val)\n",
    "    print(conf_dict)\n",
    "    \n",
    "\n",
    "    \n",
    "    \n",
    "    img = img.astype('uint8') \n",
    "    img = img.reshape((28,28))\n",
    "    img = img.transpose()\n",
    "#     display(PIL.Image.fromarray(img))"
   ]
  },
  {
   "cell_type": "code",
   "execution_count": null,
   "metadata": {
    "ExecuteTime": {
     "end_time": "2020-05-07T16:21:12.627038Z",
     "start_time": "2020-05-07T16:21:12.559590Z"
    },
    "hideCode": false,
    "hidePrompt": false,
    "scrolled": false
   },
   "outputs": [],
   "source": [
    "for img in [img for img in imgs if len(img)>0]:\n",
    "    print (\"=================================\")\n",
    "    display(PIL.Image.fromarray(cv2.bitwise_not(img)))\n",
    "    preproces(img)"
   ]
  },
  {
   "cell_type": "code",
   "execution_count": null,
   "metadata": {},
   "outputs": [],
   "source": []
  }
 ],
 "metadata": {
  "hide_code_all_hidden": false,
  "hide_input": false,
  "kernelspec": {
   "display_name": "Python 3",
   "language": "python",
   "name": "python3"
  },
  "language_info": {
   "codemirror_mode": {
    "name": "ipython",
    "version": 3
   },
   "file_extension": ".py",
   "mimetype": "text/x-python",
   "name": "python",
   "nbconvert_exporter": "python",
   "pygments_lexer": "ipython3",
   "version": "3.7.7"
  },
  "toc": {
   "base_numbering": 1,
   "nav_menu": {},
   "number_sections": true,
   "sideBar": true,
   "skip_h1_title": false,
   "title_cell": "Table of Contents",
   "title_sidebar": "Contents",
   "toc_cell": false,
   "toc_position": {},
   "toc_section_display": true,
   "toc_window_display": false
  },
  "varInspector": {
   "cols": {
    "lenName": 16,
    "lenType": 16,
    "lenVar": 40
   },
   "kernels_config": {
    "python": {
     "delete_cmd_postfix": "",
     "delete_cmd_prefix": "del ",
     "library": "var_list.py",
     "varRefreshCmd": "print(var_dic_list())"
    },
    "r": {
     "delete_cmd_postfix": ") ",
     "delete_cmd_prefix": "rm(",
     "library": "var_list.r",
     "varRefreshCmd": "cat(var_dic_list()) "
    }
   },
   "types_to_exclude": [
    "module",
    "function",
    "builtin_function_or_method",
    "instance",
    "_Feature"
   ],
   "window_display": false
  }
 },
 "nbformat": 4,
 "nbformat_minor": 1
}
