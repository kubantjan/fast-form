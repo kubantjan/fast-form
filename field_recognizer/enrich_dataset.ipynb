{
  "nbformat": 4,
  "nbformat_minor": 0,
  "metadata": {
    "hide_input": false,
    "kernelspec": {
      "display_name": "Python 3",
      "language": "python",
      "name": "python3"
    },
    "language_info": {
      "codemirror_mode": {
        "name": "ipython",
        "version": 3
      },
      "file_extension": ".py",
      "mimetype": "text/x-python",
      "name": "python",
      "nbconvert_exporter": "python",
      "pygments_lexer": "ipython3",
      "version": "3.7.7"
    },
    "toc": {
      "base_numbering": 1,
      "nav_menu": {},
      "number_sections": true,
      "sideBar": true,
      "skip_h1_title": false,
      "title_cell": "Table of Contents",
      "title_sidebar": "Contents",
      "toc_cell": false,
      "toc_position": {},
      "toc_section_display": true,
      "toc_window_display": false
    },
    "varInspector": {
      "cols": {
        "lenName": 16,
        "lenType": 16,
        "lenVar": 40
      },
      "kernels_config": {
        "python": {
          "delete_cmd_postfix": "",
          "delete_cmd_prefix": "del ",
          "library": "var_list.py",
          "varRefreshCmd": "print(var_dic_list())"
        },
        "r": {
          "delete_cmd_postfix": ") ",
          "delete_cmd_prefix": "rm(",
          "library": "var_list.r",
          "varRefreshCmd": "cat(var_dic_list()) "
        }
      },
      "types_to_exclude": [
        "module",
        "function",
        "builtin_function_or_method",
        "instance",
        "_Feature"
      ],
      "window_display": false
    },
    "colab": {
      "name": "enrich_dataset.ipynb",
      "provenance": [],
      "collapsed_sections": [],
      "toc_visible": true
    }
  },
  "cells": [
    {
      "cell_type": "code",
      "metadata": {
        "ExecuteTime": {
          "end_time": "2020-05-07T13:21:40.383310Z",
          "start_time": "2020-05-07T13:21:40.012743Z"
        },
        "id": "eyFRegEj5JfZ",
        "colab_type": "code",
        "colab": {}
      },
      "source": [
        "import os\n",
        "import numpy as np\n",
        "import math\n",
        "import pandas as pd\n",
        "import cv2\n",
        "import PIL.Image\n",
        "from IPython.display import Image\n",
        "import random"
      ],
      "execution_count": 0,
      "outputs": []
    },
    {
      "cell_type": "code",
      "metadata": {
        "ExecuteTime": {
          "end_time": "2020-05-07T13:21:40.929674Z",
          "start_time": "2020-05-07T13:21:40.887715Z"
        },
        "id": "2f7jDx775Jfx",
        "colab_type": "code",
        "outputId": "e14a3065-fee8-4213-97c0-5e55986637b7",
        "colab": {
          "base_uri": "https://localhost:8080/",
          "height": 34
        }
      },
      "source": [
        "os.chdir(\"../\")\n",
        "os.getcwd()\n",
        "path_to_data=\"training_data/\"\n",
        "# from google.colab import drive\n",
        "# drive.mount('/content/drive')\n",
        "# path_to_data=\"/content/drive/My Drive/UniHack/Notebooks and data/\""
      ],
      "execution_count": 18,
      "outputs": [
        {
          "output_type": "stream",
          "text": [
            "Drive already mounted at /content/drive; to attempt to forcibly remount, call drive.mount(\"/content/drive\", force_remount=True).\n"
          ],
          "name": "stdout"
        }
      ]
    },
    {
      "cell_type": "markdown",
      "metadata": {
        "id": "T16fauB35JgD",
        "colab_type": "text"
      },
      "source": [
        "## get dataset"
      ]
    },
    {
      "cell_type": "code",
      "metadata": {
        "ExecuteTime": {
          "end_time": "2020-05-07T13:22:02.491096Z",
          "start_time": "2020-05-07T13:21:42.122407Z"
        },
        "id": "P3fE1dC85JgH",
        "colab_type": "code",
        "colab": {}
      },
      "source": [
        "test_db = pd.read_csv(path_to_data + \"emnist-balanced-test.csv\")\n",
        "train_db  = pd.read_csv(path_to_data + \"emnist-balanced-train.csv\")\n"
      ],
      "execution_count": 0,
      "outputs": []
    },
    {
      "cell_type": "code",
      "metadata": {
        "ExecuteTime": {
          "end_time": "2020-05-07T13:23:10.572248Z",
          "start_time": "2020-05-07T13:23:10.542749Z"
        },
        "id": "8FPJ62B95JgX",
        "colab_type": "code",
        "colab": {}
      },
      "source": [
        "def convert_row_to_img(img):\n",
        "    img = img.astype('uint8')\n",
        "    img = img.reshape((28,28))\n",
        "    img = img.transpose()\n",
        "    # img = cv2.bitwise_not(img)\n",
        "    return img\n",
        "\n",
        "\n",
        "def convert_img_to_row(img):\n",
        "    # img = cv2.bitwise_not(img)\n",
        "    img = img.transpose()\n",
        "    img = img.ravel()\n",
        "    img = img.astype('int64') \n",
        "    return img\n",
        "\n",
        "\n",
        "def resize(img, dimension):\n",
        "    w, h = img.shape\n",
        "    maxi = max([w, h])\n",
        "\n",
        "    r = dimension / maxi\n",
        "    new_w = math.floor(w * r)\n",
        "    new_h = math.floor(h * r)\n",
        "\n",
        "    res = cv2.resize(img, dsize=(new_h, new_w), interpolation=cv2.INTER_CUBIC)\n",
        "    if max(res.shape) != dimension:\n",
        "        raise ValueError(\"not good size of resized shape, fix!\")\n",
        "\n",
        "    bottom = math.ceil((dimension - new_w) / 2)\n",
        "    top = math.floor((dimension - new_w) / 2)\n",
        "    right = math.ceil((dimension - new_h) / 2)\n",
        "    left = math.floor((dimension - new_h) / 2)\n",
        "    res = cv2.copyMakeBorder(res, top, bottom, left, right, cv2.BORDER_CONSTANT, value=255)\n",
        "\n",
        "    return res\n",
        "\n",
        "\n",
        "def add_radnom_border(img, target_size = 28, max_downsize = 8):\n",
        "    # downsize \n",
        "    downsize = 1 + round(random.random() * (max_downsize-1))\n",
        "    new_size = target_size - downsize\n",
        "    downsize_img = resize(img, new_size)\n",
        "\n",
        "    # pick random border\n",
        "    left = round(random.random () * downsize)\n",
        "    right = downsize - left\n",
        "    top = round(random.random () * downsize)\n",
        "    bottom = downsize - top\n",
        "\n",
        "    # add border\n",
        "    res = cv2.copyMakeBorder(downsize_img, top, bottom, left, right, cv2.BORDER_CONSTANT, value=0)\n",
        "    return res\n",
        "\n",
        "    \n",
        "def transform_img(data):\n",
        "    # get label\n",
        "    label = data.values[0]\n",
        "    \n",
        "    # add border\n",
        "    img = data.values[1:]\n",
        "    img = convert_row_to_img(img)\n",
        "    new_img = add_radnom_border(img)\n",
        "    \n",
        "    # corvert to row\n",
        "    new_row = convert_img_to_row(new_img)\n",
        "    \n",
        "    # add label\n",
        "    new_row = np.concatenate([[label],new_row])\n",
        "    \n",
        "    return new_row\n",
        "\n",
        "\n",
        "def transform_dataframe(df):\n",
        "    columns = df.columns\n",
        "#     new_chars = df[:1000].apply(transform_img, axis = 1)\n",
        "    new_chars = df.apply(transform_img, axis = 1)\n",
        "    new_df = pd.DataFrame(list(new_chars), columns=columns)\n",
        "    return new_df\n",
        "\n",
        "\n",
        "def show(img):\n",
        "    display(PIL.Image.fromarray(img))"
      ],
      "execution_count": 0,
      "outputs": []
    },
    {
      "cell_type": "code",
      "metadata": {
        "ExecuteTime": {
          "end_time": "2020-05-07T13:23:11.320818Z",
          "start_time": "2020-05-07T13:23:11.269398Z"
        },
        "id": "ya2WtMIG5Jgg",
        "colab_type": "code",
        "outputId": "f365eb19-dd17-4387-fb2c-0c5726217bdc",
        "colab": {
          "base_uri": "https://localhost:8080/",
          "height": 157
        }
      },
      "source": [
        "# test\n",
        "img_row = train_db.iloc[1].values\n",
        "img_row = img_row[1:]\n",
        "\n",
        "img = convert_row_to_img(img_row)\n",
        "img.shape\n",
        "for i in range(5):\n",
        "    new_img = add_radnom_border(img)\n",
        "    show(new_img)"
      ],
      "execution_count": 13,
      "outputs": [
        {
          "output_type": "display_data",
          "data": {
            "image/png": "[encoded data removed]",
            "text/plain": [
              "<PIL.Image.Image image mode=L size=28x28 at 0x7F8000B92048>"
            ]
          },
          "metadata": {
            "tags": []
          }
        },
        {
          "output_type": "display_data",
          "data": {
            "image/png": "[encoded data removed]",
            "text/plain": [
              "<PIL.Image.Image image mode=L size=28x28 at 0x7F8000B92160>"
            ]
          },
          "metadata": {
            "tags": []
          }
        },
        {
          "output_type": "display_data",
          "data": {
            "image/png": "[encoded data removed]",
            "text/plain": [
              "<PIL.Image.Image image mode=L size=28x28 at 0x7F800A58ED30>"
            ]
          },
          "metadata": {
            "tags": []
          }
        },
        {
          "output_type": "display_data",
          "data": {
            "image/png": "[encoded data removed]",
            "text/plain": [
              "<PIL.Image.Image image mode=L size=28x28 at 0x7F8000A6E668>"
            ]
          },
          "metadata": {
            "tags": []
          }
        },
        {
          "output_type": "display_data",
          "data": {
            "image/png": "[encoded data removed]",
            "text/plain": [
              "<PIL.Image.Image image mode=L size=28x28 at 0x7F800A58ED30>"
            ]
          },
          "metadata": {
            "tags": []
          }
        }
      ]
    },
    {
      "cell_type": "markdown",
      "metadata": {
        "id": "j8IjJ7yz5Jgn",
        "colab_type": "text"
      },
      "source": [
        "## enrich training set"
      ]
    },
    {
      "cell_type": "code",
      "metadata": {
        "ExecuteTime": {
          "end_time": "2020-05-07T13:24:33.059673Z",
          "start_time": "2020-05-07T13:23:12.632180Z"
        },
        "id": "XoI7owhW5Jgo",
        "colab_type": "code",
        "outputId": "dccbc5d6-f44d-4713-83b8-b9e95006ef8c",
        "colab": {
          "base_uri": "https://localhost:8080/",
          "height": 51
        }
      },
      "source": [
        "new_train_db = transform_dataframe(train_db)\n",
        "new_train_db = train_db.append(new_train_db)\n",
        "print(f\"Original size: {train_db.shape}\")\n",
        "print(f\"New size:      {new_train_db.shape}\")"
      ],
      "execution_count": 14,
      "outputs": [
        {
          "output_type": "stream",
          "text": [
            "Original size: (112799, 785)\n",
            "New size:      (225598, 785)\n"
          ],
          "name": "stdout"
        }
      ]
    },
    {
      "cell_type": "markdown",
      "metadata": {
        "id": "lkmuFL6-5Jgt",
        "colab_type": "text"
      },
      "source": [
        "## enrich testing set"
      ]
    },
    {
      "cell_type": "code",
      "metadata": {
        "ExecuteTime": {
          "end_time": "2020-05-07T13:24:45.348075Z",
          "start_time": "2020-05-07T13:24:35.346027Z"
        },
        "id": "fji42fxz5Jgv",
        "colab_type": "code",
        "outputId": "325d16a5-c180-4c88-b0b5-b118ca59ab95",
        "colab": {
          "base_uri": "https://localhost:8080/",
          "height": 51
        }
      },
      "source": [
        "new_test_db = transform_dataframe(test_db)\n",
        "new_test_db = test_db.append(new_test_db)\n",
        "print(f\"Original size: {test_db.shape}\")\n",
        "print(f\"New size:      {new_test_db.shape}\")"
      ],
      "execution_count": 15,
      "outputs": [
        {
          "output_type": "stream",
          "text": [
            "Original size: (18799, 785)\n",
            "New size:      (37598, 785)\n"
          ],
          "name": "stdout"
        }
      ]
    },
    {
      "cell_type": "markdown",
      "metadata": {
        "id": "GIXQfcbb5Jg1",
        "colab_type": "text"
      },
      "source": [
        "## save"
      ]
    },
    {
      "cell_type": "code",
      "metadata": {
        "ExecuteTime": {
          "end_time": "2020-05-07T13:25:09.182150Z",
          "start_time": "2020-05-07T13:24:47.534255Z"
        },
        "id": "vpEXoP6b5Jg2",
        "colab_type": "code",
        "colab": {}
      },
      "source": [
        "new_train_db.to_csv(path_to_data + 'emnist-balanced-enriched-train.csv', index=False)\n",
        "new_test_db.to_csv(path_to_data + 'emnist-balanced-enriched-test.csv', index=False)"
      ],
      "execution_count": 0,
      "outputs": []
    }
  ]
}