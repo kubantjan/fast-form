{
 "cells": [
  {
   "cell_type": "code",
   "execution_count": 1,
   "metadata": {
    "ExecuteTime": {
     "end_time": "2020-05-07T13:21:40.383310Z",
     "start_time": "2020-05-07T13:21:40.012743Z"
    }
   },
   "outputs": [],
   "source": [
    "import os\n",
    "import numpy as np\n",
    "import math\n",
    "import pandas as pd\n",
    "import cv2\n",
    "import PIL.Image\n",
    "from IPython.display import Image\n",
    "import random"
   ]
  },
  {
   "cell_type": "code",
   "execution_count": 2,
   "metadata": {
    "ExecuteTime": {
     "end_time": "2020-05-07T13:21:40.929674Z",
     "start_time": "2020-05-07T13:21:40.887715Z"
    }
   },
   "outputs": [
    {
     "data": {
      "text/plain": [
       "'/home/honza/Documents/UniHack/fast-form'"
      ]
     },
     "execution_count": 2,
     "metadata": {},
     "output_type": "execute_result"
    }
   ],
   "source": [
    "os.chdir(\"../\")\n",
    "os.getcwd()"
   ]
  },
  {
   "cell_type": "markdown",
   "metadata": {},
   "source": [
    "## get dataset"
   ]
  },
  {
   "cell_type": "code",
   "execution_count": 3,
   "metadata": {
    "ExecuteTime": {
     "end_time": "2020-05-07T13:22:02.491096Z",
     "start_time": "2020-05-07T13:21:42.122407Z"
    }
   },
   "outputs": [],
   "source": [
    "train_db = pd.read_csv(\"training_data/emnist-balanced-train.csv\")\n",
    "test_db  = pd.read_csv(\"training_data/emnist-balanced-test.csv\")"
   ]
  },
  {
   "cell_type": "code",
   "execution_count": 11,
   "metadata": {
    "ExecuteTime": {
     "end_time": "2020-05-07T13:23:10.572248Z",
     "start_time": "2020-05-07T13:23:10.542749Z"
    }
   },
   "outputs": [],
   "source": [
    "def convert_row_to_img(img):\n",
    "    img = img.astype('uint8')\n",
    "    img = img.reshape((28,28))\n",
    "    img = img.transpose()\n",
    "    # img = cv2.bitwise_not(img)\n",
    "    return img\n",
    "\n",
    "\n",
    "def convert_img_to_row(img):\n",
    "    # img = cv2.bitwise_not(img)\n",
    "    img = img.transpose()\n",
    "    img = img.ravel()\n",
    "    img = img.astype('int64') \n",
    "    return img\n",
    "\n",
    "\n",
    "def resize(img, dimension):\n",
    "    w, h = img.shape\n",
    "    maxi = max([w, h])\n",
    "\n",
    "    r = dimension / maxi\n",
    "    new_w = math.floor(w * r)\n",
    "    new_h = math.floor(h * r)\n",
    "\n",
    "    res = cv2.resize(img, dsize=(new_h, new_w), interpolation=cv2.INTER_CUBIC)\n",
    "    if max(res.shape) != dimension:\n",
    "        raise ValueError(\"not good size of resized shape, fix!\")\n",
    "\n",
    "    bottom = math.ceil((dimension - new_w) / 2)\n",
    "    top = math.floor((dimension - new_w) / 2)\n",
    "    right = math.ceil((dimension - new_h) / 2)\n",
    "    left = math.floor((dimension - new_h) / 2)\n",
    "    res = cv2.copyMakeBorder(res, top, bottom, left, right, cv2.BORDER_CONSTANT, value=255)\n",
    "\n",
    "    return res\n",
    "\n",
    "\n",
    "def add_radnom_border(img, target_size = 28, max_downsize = 8):\n",
    "    # downsize \n",
    "    downsize = 1 + round(random.random() * (max_downsize-1))\n",
    "    new_size = target_size - downsize\n",
    "    downsize_img = resize(img, new_size)\n",
    "\n",
    "    # pick random border\n",
    "    left = round(random.random () * downsize)\n",
    "    right = downsize - left\n",
    "    top = round(random.random () * downsize)\n",
    "    bottom = downsize - top\n",
    "\n",
    "    # add border\n",
    "    res = cv2.copyMakeBorder(downsize_img, top, bottom, left, right, cv2.BORDER_CONSTANT, value=0)\n",
    "    return res\n",
    "\n",
    "    \n",
    "def transform_img(data):\n",
    "    # get label\n",
    "    label = data.values[0]\n",
    "    \n",
    "    # add border\n",
    "    img = data.values[1:]\n",
    "    img = convert_row_to_img(img)\n",
    "    new_img = add_radnom_border(img)\n",
    "    \n",
    "    # corvert to row\n",
    "    new_row = convert_img_to_row(new_img)\n",
    "    \n",
    "    # add label\n",
    "    new_row = np.concatenate([[label],new_row])\n",
    "    \n",
    "    return new_row\n",
    "\n",
    "\n",
    "def transform_dataframe(df):\n",
    "    columns = df.columns\n",
    "#     new_chars = df[:1000].apply(transform_img, axis = 1)\n",
    "    new_chars = df.apply(transform_img, axis = 1)\n",
    "    new_df = pd.DataFrame(list(new_chars), columns=columns)\n",
    "    return new_df\n",
    "\n",
    "\n",
    "def show(img):\n",
    "    display(PIL.Image.fromarray(img))"
   ]
  },
  {
   "cell_type": "code",
   "execution_count": 12,
   "metadata": {
    "ExecuteTime": {
     "end_time": "2020-05-07T13:23:11.320818Z",
     "start_time": "2020-05-07T13:23:11.269398Z"
    }
   },
   "outputs": [
    {
     "data": {
      "image/png": "[encoded data removed]",
      "text/plain": [
       "<PIL.Image.Image image mode=L size=28x28 at 0x7F09CA8306D0>"
      ]
     },
     "metadata": {},
     "output_type": "display_data"
    },
    {
     "data": {
      "image/png": "[encoded data removed]",
      "text/plain": [
       "<PIL.Image.Image image mode=L size=28x28 at 0x7F09CA830ED0>"
      ]
     },
     "metadata": {},
     "output_type": "display_data"
    },
    {
     "data": {
      "image/png": "[encoded data removed]",
      "text/plain": [
       "<PIL.Image.Image image mode=L size=28x28 at 0x7F09CA830610>"
      ]
     },
     "metadata": {},
     "output_type": "display_data"
    },
    {
     "data": {
      "image/png": "[encoded data removed]",
      "text/plain": [
       "<PIL.Image.Image image mode=L size=28x28 at 0x7F09CA830ED0>"
      ]
     },
     "metadata": {},
     "output_type": "display_data"
    },
    {
     "data": {
      "image/png": "[encoded data removed]",
      "text/plain": [
       "<PIL.Image.Image image mode=L size=28x28 at 0x7F09CA830A10>"
      ]
     },
     "metadata": {},
     "output_type": "display_data"
    }
   ],
   "source": [
    "# test\n",
    "img_row = train_db.iloc[1].values\n",
    "img_row = img_row[1:]\n",
    "\n",
    "img = convert_row_to_img(img_row)\n",
    "img.shape\n",
    "for i in range(5):\n",
    "    new_img = add_radnom_border(img)\n",
    "    show(new_img)"
   ]
  },
  {
   "cell_type": "markdown",
   "metadata": {},
   "source": [
    "## enrich training set"
   ]
  },
  {
   "cell_type": "code",
   "execution_count": 13,
   "metadata": {
    "ExecuteTime": {
     "end_time": "2020-05-07T13:24:33.059673Z",
     "start_time": "2020-05-07T13:23:12.632180Z"
    }
   },
   "outputs": [
    {
     "name": "stdout",
     "output_type": "stream",
     "text": [
      "Original size: (112799, 785)\n",
      "New size:      (225598, 785)\n"
     ]
    }
   ],
   "source": [
    "new_train_db = transform_dataframe(train_db)\n",
    "new_train_db = train_db.append(new_train_db)\n",
    "print(f\"Original size: {train_db.shape}\")\n",
    "print(f\"New size:      {new_train_db.shape}\")"
   ]
  },
  {
   "cell_type": "markdown",
   "metadata": {},
   "source": [
    "## enrich testing set"
   ]
  },
  {
   "cell_type": "code",
   "execution_count": 14,
   "metadata": {
    "ExecuteTime": {
     "end_time": "2020-05-07T13:24:45.348075Z",
     "start_time": "2020-05-07T13:24:35.346027Z"
    }
   },
   "outputs": [
    {
     "name": "stdout",
     "output_type": "stream",
     "text": [
      "Original size: (18799, 785)\n",
      "New size:      (37598, 785)\n"
     ]
    }
   ],
   "source": [
    "new_test_db = transform_dataframe(test_db)\n",
    "new_test_db = test_db.append(new_test_db)\n",
    "print(f\"Original size: {test_db.shape}\")\n",
    "print(f\"New size:      {new_test_db.shape}\")"
   ]
  },
  {
   "cell_type": "markdown",
   "metadata": {},
   "source": [
    "## save"
   ]
  },
  {
   "cell_type": "code",
   "execution_count": 15,
   "metadata": {
    "ExecuteTime": {
     "end_time": "2020-05-07T13:25:09.182150Z",
     "start_time": "2020-05-07T13:24:47.534255Z"
    }
   },
   "outputs": [],
   "source": [
    "new_train_db.to_csv('training_data/emnist-balanced-enriched-train.csv', index=False)\n",
    "new_test_db.to_csv('training_data/emnist-balanced-enriched-test.csv', index=False)"
   ]
  },
  {
   "cell_type": "code",
   "execution_count": 16,
   "metadata": {
    "ExecuteTime": {
     "end_time": "2020-05-07T13:25:12.164220Z",
     "start_time": "2020-05-07T13:25:10.490464Z"
    }
   },
   "outputs": [],
   "source": [
    "# train_db = pd.read_csv(\"training_data/emnist-balanced-enriched-train.csv\")\n",
    "test_db  = pd.read_csv(\"training_data/emnist-balanced-enriched-test.csv\")"
   ]
  },
  {
   "cell_type": "code",
   "execution_count": 17,
   "metadata": {
    "ExecuteTime": {
     "end_time": "2020-05-07T13:25:13.032807Z",
     "start_time": "2020-05-07T13:25:13.000214Z"
    }
   },
   "outputs": [
    {
     "data": {
      "text/html": [
       "<div>\n",
       "<style scoped>\n",
       "    .dataframe tbody tr th:only-of-type {\n",
       "        vertical-align: middle;\n",
       "    }\n",
       "\n",
       "    .dataframe tbody tr th {\n",
       "        vertical-align: top;\n",
       "    }\n",
       "\n",
       "    .dataframe thead th {\n",
       "        text-align: right;\n",
       "    }\n",
       "</style>\n",
       "<table border=\"1\" class=\"dataframe\">\n",
       "  <thead>\n",
       "    <tr style=\"text-align: right;\">\n",
       "      <th></th>\n",
       "      <th>41</th>\n",
       "      <th>0</th>\n",
       "      <th>0.1</th>\n",
       "      <th>0.2</th>\n",
       "      <th>0.3</th>\n",
       "      <th>0.4</th>\n",
       "      <th>0.5</th>\n",
       "      <th>0.6</th>\n",
       "      <th>0.7</th>\n",
       "      <th>0.8</th>\n",
       "      <th>...</th>\n",
       "      <th>0.523</th>\n",
       "      <th>0.524</th>\n",
       "      <th>0.525</th>\n",
       "      <th>0.526</th>\n",
       "      <th>0.527</th>\n",
       "      <th>0.528</th>\n",
       "      <th>0.529</th>\n",
       "      <th>0.530</th>\n",
       "      <th>0.531</th>\n",
       "      <th>0.532</th>\n",
       "    </tr>\n",
       "  </thead>\n",
       "  <tbody>\n",
       "    <tr>\n",
       "      <th>0</th>\n",
       "      <td>39</td>\n",
       "      <td>0</td>\n",
       "      <td>0</td>\n",
       "      <td>0</td>\n",
       "      <td>0</td>\n",
       "      <td>0</td>\n",
       "      <td>0</td>\n",
       "      <td>0</td>\n",
       "      <td>0</td>\n",
       "      <td>0</td>\n",
       "      <td>...</td>\n",
       "      <td>0</td>\n",
       "      <td>0</td>\n",
       "      <td>0</td>\n",
       "      <td>0</td>\n",
       "      <td>0</td>\n",
       "      <td>0</td>\n",
       "      <td>0</td>\n",
       "      <td>0</td>\n",
       "      <td>0</td>\n",
       "      <td>0</td>\n",
       "    </tr>\n",
       "    <tr>\n",
       "      <th>1</th>\n",
       "      <td>9</td>\n",
       "      <td>0</td>\n",
       "      <td>0</td>\n",
       "      <td>0</td>\n",
       "      <td>0</td>\n",
       "      <td>0</td>\n",
       "      <td>0</td>\n",
       "      <td>0</td>\n",
       "      <td>0</td>\n",
       "      <td>0</td>\n",
       "      <td>...</td>\n",
       "      <td>0</td>\n",
       "      <td>0</td>\n",
       "      <td>0</td>\n",
       "      <td>0</td>\n",
       "      <td>0</td>\n",
       "      <td>0</td>\n",
       "      <td>0</td>\n",
       "      <td>0</td>\n",
       "      <td>0</td>\n",
       "      <td>0</td>\n",
       "    </tr>\n",
       "    <tr>\n",
       "      <th>2</th>\n",
       "      <td>26</td>\n",
       "      <td>0</td>\n",
       "      <td>0</td>\n",
       "      <td>0</td>\n",
       "      <td>0</td>\n",
       "      <td>0</td>\n",
       "      <td>0</td>\n",
       "      <td>0</td>\n",
       "      <td>0</td>\n",
       "      <td>0</td>\n",
       "      <td>...</td>\n",
       "      <td>0</td>\n",
       "      <td>0</td>\n",
       "      <td>0</td>\n",
       "      <td>0</td>\n",
       "      <td>0</td>\n",
       "      <td>0</td>\n",
       "      <td>0</td>\n",
       "      <td>0</td>\n",
       "      <td>0</td>\n",
       "      <td>0</td>\n",
       "    </tr>\n",
       "    <tr>\n",
       "      <th>3</th>\n",
       "      <td>44</td>\n",
       "      <td>0</td>\n",
       "      <td>0</td>\n",
       "      <td>0</td>\n",
       "      <td>0</td>\n",
       "      <td>0</td>\n",
       "      <td>0</td>\n",
       "      <td>0</td>\n",
       "      <td>0</td>\n",
       "      <td>0</td>\n",
       "      <td>...</td>\n",
       "      <td>0</td>\n",
       "      <td>0</td>\n",
       "      <td>0</td>\n",
       "      <td>0</td>\n",
       "      <td>0</td>\n",
       "      <td>0</td>\n",
       "      <td>0</td>\n",
       "      <td>0</td>\n",
       "      <td>0</td>\n",
       "      <td>0</td>\n",
       "    </tr>\n",
       "    <tr>\n",
       "      <th>4</th>\n",
       "      <td>33</td>\n",
       "      <td>0</td>\n",
       "      <td>0</td>\n",
       "      <td>0</td>\n",
       "      <td>0</td>\n",
       "      <td>0</td>\n",
       "      <td>0</td>\n",
       "      <td>0</td>\n",
       "      <td>0</td>\n",
       "      <td>0</td>\n",
       "      <td>...</td>\n",
       "      <td>0</td>\n",
       "      <td>0</td>\n",
       "      <td>0</td>\n",
       "      <td>0</td>\n",
       "      <td>0</td>\n",
       "      <td>0</td>\n",
       "      <td>0</td>\n",
       "      <td>0</td>\n",
       "      <td>0</td>\n",
       "      <td>0</td>\n",
       "    </tr>\n",
       "  </tbody>\n",
       "</table>\n",
       "<p>5 rows × 785 columns</p>\n",
       "</div>"
      ],
      "text/plain": [
       "   41  0  0.1  0.2  0.3  0.4  0.5  0.6  0.7  0.8  ...  0.523  0.524  0.525  \\\n",
       "0  39  0    0    0    0    0    0    0    0    0  ...      0      0      0   \n",
       "1   9  0    0    0    0    0    0    0    0    0  ...      0      0      0   \n",
       "2  26  0    0    0    0    0    0    0    0    0  ...      0      0      0   \n",
       "3  44  0    0    0    0    0    0    0    0    0  ...      0      0      0   \n",
       "4  33  0    0    0    0    0    0    0    0    0  ...      0      0      0   \n",
       "\n",
       "   0.526  0.527  0.528  0.529  0.530  0.531  0.532  \n",
       "0      0      0      0      0      0      0      0  \n",
       "1      0      0      0      0      0      0      0  \n",
       "2      0      0      0      0      0      0      0  \n",
       "3      0      0      0      0      0      0      0  \n",
       "4      0      0      0      0      0      0      0  \n",
       "\n",
       "[5 rows x 785 columns]"
      ]
     },
     "execution_count": 17,
     "metadata": {},
     "output_type": "execute_result"
    }
   ],
   "source": [
    "test_db.head()"
   ]
  },
  {
   "cell_type": "code",
   "execution_count": null,
   "metadata": {},
   "outputs": [],
   "source": []
  }
 ],
 "metadata": {
  "hide_input": false,
  "kernelspec": {
   "display_name": "Python 3",
   "language": "python",
   "name": "python3"
  },
  "language_info": {
   "codemirror_mode": {
    "name": "ipython",
    "version": 3
   },
   "file_extension": ".py",
   "mimetype": "text/x-python",
   "name": "python",
   "nbconvert_exporter": "python",
   "pygments_lexer": "ipython3",
   "version": "3.7.7"
  },
  "toc": {
   "base_numbering": 1,
   "nav_menu": {},
   "number_sections": true,
   "sideBar": true,
   "skip_h1_title": false,
   "title_cell": "Table of Contents",
   "title_sidebar": "Contents",
   "toc_cell": false,
   "toc_position": {},
   "toc_section_display": true,
   "toc_window_display": false
  },
  "varInspector": {
   "cols": {
    "lenName": 16,
    "lenType": 16,
    "lenVar": 40
   },
   "kernels_config": {
    "python": {
     "delete_cmd_postfix": "",
     "delete_cmd_prefix": "del ",
     "library": "var_list.py",
     "varRefreshCmd": "print(var_dic_list())"
    },
    "r": {
     "delete_cmd_postfix": ") ",
     "delete_cmd_prefix": "rm(",
     "library": "var_list.r",
     "varRefreshCmd": "cat(var_dic_list()) "
    }
   },
   "types_to_exclude": [
    "module",
    "function",
    "builtin_function_or_method",
    "instance",
    "_Feature"
   ],
   "window_display": false
  }
 },
 "nbformat": 4,
 "nbformat_minor": 2
}
