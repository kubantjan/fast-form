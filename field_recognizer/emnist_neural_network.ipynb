{
  "nbformat": 4,
  "nbformat_minor": 0,
  "metadata": {
    "hide_code_all_hidden": false,
    "hide_input": false,
    "kernelspec": {
      "display_name": "Python 3",
      "language": "python",
      "name": "python3"
    },
    "language_info": {
      "codemirror_mode": {
        "name": "ipython",
        "version": 3
      },
      "file_extension": ".py",
      "mimetype": "text/x-python",
      "name": "python",
      "nbconvert_exporter": "python",
      "pygments_lexer": "ipython3",
      "version": "3.7.7"
    },
    "toc": {
      "base_numbering": 1,
      "nav_menu": {},
      "number_sections": true,
      "sideBar": true,
      "skip_h1_title": false,
      "title_cell": "Table of Contents",
      "title_sidebar": "Contents",
      "toc_cell": false,
      "toc_position": {},
      "toc_section_display": true,
      "toc_window_display": false
    },
    "varInspector": {
      "cols": {
        "lenName": 16,
        "lenType": 16,
        "lenVar": 40
      },
      "kernels_config": {
        "python": {
          "delete_cmd_postfix": "",
          "delete_cmd_prefix": "del ",
          "library": "var_list.py",
          "varRefreshCmd": "print(var_dic_list())"
        },
        "r": {
          "delete_cmd_postfix": ") ",
          "delete_cmd_prefix": "rm(",
          "library": "var_list.r",
          "varRefreshCmd": "cat(var_dic_list()) "
        }
      },
      "types_to_exclude": [
        "module",
        "function",
        "builtin_function_or_method",
        "instance",
        "_Feature"
      ],
      "window_display": false
    },
    "colab": {
      "name": "emnist-neural-network.ipynb",
      "provenance": [],
      "collapsed_sections": [],
      "toc_visible": true
    }
  },
  "cells": [
    {
      "cell_type": "code",
      "metadata": {
        "ExecuteTime": {
          "end_time": "2020-05-07T16:17:53.182648Z",
          "start_time": "2020-05-07T16:17:52.886786Z"
        },
        "hideCode": false,
        "hidePrompt": false,
        "id": "_q0cMFx24Wbv",
        "colab_type": "code",
        "outputId": "dda9e367-226f-4f9d-c76c-e745bb0dd9c6",
        "colab": {
          "base_uri": "https://localhost:8080/",
          "height": 34
        }
      },
      "source": [
        "import os\n",
        "\n",
        "import numpy as np\n",
        "import pandas as pd\n",
        "import PIL.Image\n",
        "from IPython.display import Image\n",
        "import cv2\n",
        "from keras.utils import np_utils"
      ],
      "execution_count": 1,
      "outputs": [
        {
          "output_type": "stream",
          "text": [
            "Using TensorFlow backend.\n"
          ],
          "name": "stderr"
        }
      ]
    },
    {
      "cell_type": "markdown",
      "metadata": {
        "hideCode": false,
        "hidePrompt": false,
        "id": "i_UatpD-4Wb7",
        "colab_type": "text"
      },
      "source": [
        "# init stuff"
      ]
    },
    {
      "cell_type": "code",
      "metadata": {
        "id": "apx0dF7RA7Ua",
        "colab_type": "code",
        "colab": {
          "base_uri": "https://localhost:8080/",
          "height": 34
        },
        "outputId": "78c3c3a7-e922-48bd-ff3e-92f0fb0f61c8"
      },
      "source": [
        "# os.chdir(\"../\")\n",
        "# os.getcwd()\n",
        "# path_to_data=\"training_data/\"\n",
        "# path_to_model=\"model_data/\"\n",
        "# path_to_forms = \"test/example_forms/unihack/\"\n",
        "\n",
        "from google.colab import drive\n",
        "drive.mount('/content/drive')\n",
        "path_to_data=\"/content/drive/My Drive/UniHack/Notebooks and data/\"\n",
        "path_to_model = \"/content/drive/My Drive/UniHack/Notebooks and data/model/\"\n",
        "path_to_forms = \"/content/drive/My Drive/UniHack/Notebooks and data/forms/\""
      ],
      "execution_count": 2,
      "outputs": [
        {
          "output_type": "stream",
          "text": [
            "Drive already mounted at /content/drive; to attempt to forcibly remount, call drive.mount(\"/content/drive\", force_remount=True).\n"
          ],
          "name": "stdout"
        }
      ]
    },
    {
      "cell_type": "code",
      "metadata": {
        "ExecuteTime": {
          "end_time": "2020-05-07T17:41:10.758462Z",
          "start_time": "2020-05-07T17:41:10.711250Z"
        },
        "hideCode": false,
        "hidePrompt": false,
        "id": "s0_MnkiY4WcA",
        "colab_type": "code",
        "outputId": "f83faa7d-3cfc-4d2e-81f4-2330a57bc5e3",
        "colab": {
          "base_uri": "https://localhost:8080/",
          "height": 34
        }
      },
      "source": [
        "TYPE=\"numbers\"\n",
        "# TYPE=\"letters\"\n",
        "\n",
        "def is_the_type(x):\n",
        "#     return ord(\"A\") <= x <= ord(\"Z\")\n",
        "    return ord(\"0\") <= x <= ord(\"9\")\n",
        "\n",
        "\n",
        "with open(path_to_data + \"emnist-balanced-mapping.txt\") as f:\n",
        "    s = f.read()[:-1] # remove last char \\n\n",
        "a = [l.split(\" \") for l in s.split(\"\\n\")]\n",
        "original_mapper = {int(l[0]): chr(int(l[1])) for l in a if is_the_type(int(l[1]))}\n",
        "\n",
        "\n",
        "\n",
        "num_classes = len(original_mapper)\n",
        "\n",
        "to_substract = min(original_mapper.keys())\n",
        "\n",
        "res_mapper = {k - to_substract: v for k,v in original_mapper.items()}\n",
        "\n",
        "\n",
        "\n",
        "def filter_letters(df):\n",
        "    return df[df.iloc[:,0].apply(lambda x: x in original_mapper.keys())]\n",
        "\n",
        "print(original_mapper)\n"
      ],
      "execution_count": 3,
      "outputs": [
        {
          "output_type": "stream",
          "text": [
            "{0: '0', 1: '1', 2: '2', 3: '3', 4: '4', 5: '5', 6: '6', 7: '7', 8: '8', 9: '9'}\n"
          ],
          "name": "stdout"
        }
      ]
    },
    {
      "cell_type": "markdown",
      "metadata": {
        "hideCode": false,
        "hidePrompt": false,
        "id": "oSLGxOJj4WcF",
        "colab_type": "text"
      },
      "source": [
        "\n",
        "# Model training"
      ]
    },
    {
      "cell_type": "markdown",
      "metadata": {
        "hideCode": false,
        "hidePrompt": false,
        "id": "fGg5_pLe4WcF",
        "colab_type": "text"
      },
      "source": [
        "## load dataset"
      ]
    },
    {
      "cell_type": "code",
      "metadata": {
        "ExecuteTime": {
          "end_time": "2020-05-07T16:18:09.762812Z",
          "start_time": "2020-05-07T16:17:54.342348Z"
        },
        "_cell_guid": "f2e9cf0b-4025-4de3-b57b-bae842beef1c",
        "_uuid": "4e52b01454a737738ed560d4e25bf770572d57e2",
        "hideCode": false,
        "hidePrompt": false,
        "id": "JzHHzku_4WcG",
        "colab_type": "code",
        "colab": {
          "base_uri": "https://localhost:8080/",
          "height": 510
        },
        "outputId": "bc616762-34b4-4a1a-92b1-5d327b7c9003"
      },
      "source": [
        "train_db = pd.read_csv(path_to_data + \"emnist-balanced-enriched-train.csv\", header=None)"
      ],
      "execution_count": 4,
      "outputs": [
        {
          "output_type": "error",
          "ename": "KeyboardInterrupt",
          "evalue": "ignored",
          "traceback": [
            "\u001b[0;31m---------------------------------------------------------------------------\u001b[0m",
            "\u001b[0;31mKeyboardInterrupt\u001b[0m                         Traceback (most recent call last)",
            "\u001b[0;32m<ipython-input-4-9e874afe5537>\u001b[0m in \u001b[0;36m<module>\u001b[0;34m()\u001b[0m\n\u001b[0;32m----> 1\u001b[0;31m \u001b[0mtrain_db\u001b[0m \u001b[0;34m=\u001b[0m \u001b[0mpd\u001b[0m\u001b[0;34m.\u001b[0m\u001b[0mread_csv\u001b[0m\u001b[0;34m(\u001b[0m\u001b[0mpath_to_data\u001b[0m \u001b[0;34m+\u001b[0m \u001b[0;34m\"emnist-balanced-enriched-train.csv\"\u001b[0m\u001b[0;34m,\u001b[0m \u001b[0mheader\u001b[0m\u001b[0;34m=\u001b[0m\u001b[0;32mNone\u001b[0m\u001b[0;34m)\u001b[0m\u001b[0;34m\u001b[0m\u001b[0;34m\u001b[0m\u001b[0m\n\u001b[0m",
            "\u001b[0;32m/usr/local/lib/python3.6/dist-packages/pandas/io/parsers.py\u001b[0m in \u001b[0;36mparser_f\u001b[0;34m(filepath_or_buffer, sep, delimiter, header, names, index_col, usecols, squeeze, prefix, mangle_dupe_cols, dtype, engine, converters, true_values, false_values, skipinitialspace, skiprows, skipfooter, nrows, na_values, keep_default_na, na_filter, verbose, skip_blank_lines, parse_dates, infer_datetime_format, keep_date_col, date_parser, dayfirst, cache_dates, iterator, chunksize, compression, thousands, decimal, lineterminator, quotechar, quoting, doublequote, escapechar, comment, encoding, dialect, error_bad_lines, warn_bad_lines, delim_whitespace, low_memory, memory_map, float_precision)\u001b[0m\n\u001b[1;32m    674\u001b[0m         )\n\u001b[1;32m    675\u001b[0m \u001b[0;34m\u001b[0m\u001b[0m\n\u001b[0;32m--> 676\u001b[0;31m         \u001b[0;32mreturn\u001b[0m \u001b[0m_read\u001b[0m\u001b[0;34m(\u001b[0m\u001b[0mfilepath_or_buffer\u001b[0m\u001b[0;34m,\u001b[0m \u001b[0mkwds\u001b[0m\u001b[0;34m)\u001b[0m\u001b[0;34m\u001b[0m\u001b[0;34m\u001b[0m\u001b[0m\n\u001b[0m\u001b[1;32m    677\u001b[0m \u001b[0;34m\u001b[0m\u001b[0m\n\u001b[1;32m    678\u001b[0m     \u001b[0mparser_f\u001b[0m\u001b[0;34m.\u001b[0m\u001b[0m__name__\u001b[0m \u001b[0;34m=\u001b[0m \u001b[0mname\u001b[0m\u001b[0;34m\u001b[0m\u001b[0;34m\u001b[0m\u001b[0m\n",
            "\u001b[0;32m/usr/local/lib/python3.6/dist-packages/pandas/io/parsers.py\u001b[0m in \u001b[0;36m_read\u001b[0;34m(filepath_or_buffer, kwds)\u001b[0m\n\u001b[1;32m    452\u001b[0m \u001b[0;34m\u001b[0m\u001b[0m\n\u001b[1;32m    453\u001b[0m     \u001b[0;32mtry\u001b[0m\u001b[0;34m:\u001b[0m\u001b[0;34m\u001b[0m\u001b[0;34m\u001b[0m\u001b[0m\n\u001b[0;32m--> 454\u001b[0;31m         \u001b[0mdata\u001b[0m \u001b[0;34m=\u001b[0m \u001b[0mparser\u001b[0m\u001b[0;34m.\u001b[0m\u001b[0mread\u001b[0m\u001b[0;34m(\u001b[0m\u001b[0mnrows\u001b[0m\u001b[0;34m)\u001b[0m\u001b[0;34m\u001b[0m\u001b[0;34m\u001b[0m\u001b[0m\n\u001b[0m\u001b[1;32m    455\u001b[0m     \u001b[0;32mfinally\u001b[0m\u001b[0;34m:\u001b[0m\u001b[0;34m\u001b[0m\u001b[0;34m\u001b[0m\u001b[0m\n\u001b[1;32m    456\u001b[0m         \u001b[0mparser\u001b[0m\u001b[0;34m.\u001b[0m\u001b[0mclose\u001b[0m\u001b[0;34m(\u001b[0m\u001b[0;34m)\u001b[0m\u001b[0;34m\u001b[0m\u001b[0;34m\u001b[0m\u001b[0m\n",
            "\u001b[0;32m/usr/local/lib/python3.6/dist-packages/pandas/io/parsers.py\u001b[0m in \u001b[0;36mread\u001b[0;34m(self, nrows)\u001b[0m\n\u001b[1;32m   1131\u001b[0m     \u001b[0;32mdef\u001b[0m \u001b[0mread\u001b[0m\u001b[0;34m(\u001b[0m\u001b[0mself\u001b[0m\u001b[0;34m,\u001b[0m \u001b[0mnrows\u001b[0m\u001b[0;34m=\u001b[0m\u001b[0;32mNone\u001b[0m\u001b[0;34m)\u001b[0m\u001b[0;34m:\u001b[0m\u001b[0;34m\u001b[0m\u001b[0;34m\u001b[0m\u001b[0m\n\u001b[1;32m   1132\u001b[0m         \u001b[0mnrows\u001b[0m \u001b[0;34m=\u001b[0m \u001b[0m_validate_integer\u001b[0m\u001b[0;34m(\u001b[0m\u001b[0;34m\"nrows\"\u001b[0m\u001b[0;34m,\u001b[0m \u001b[0mnrows\u001b[0m\u001b[0;34m)\u001b[0m\u001b[0;34m\u001b[0m\u001b[0;34m\u001b[0m\u001b[0m\n\u001b[0;32m-> 1133\u001b[0;31m         \u001b[0mret\u001b[0m \u001b[0;34m=\u001b[0m \u001b[0mself\u001b[0m\u001b[0;34m.\u001b[0m\u001b[0m_engine\u001b[0m\u001b[0;34m.\u001b[0m\u001b[0mread\u001b[0m\u001b[0;34m(\u001b[0m\u001b[0mnrows\u001b[0m\u001b[0;34m)\u001b[0m\u001b[0;34m\u001b[0m\u001b[0;34m\u001b[0m\u001b[0m\n\u001b[0m\u001b[1;32m   1134\u001b[0m \u001b[0;34m\u001b[0m\u001b[0m\n\u001b[1;32m   1135\u001b[0m         \u001b[0;31m# May alter columns / col_dict\u001b[0m\u001b[0;34m\u001b[0m\u001b[0;34m\u001b[0m\u001b[0;34m\u001b[0m\u001b[0m\n",
            "\u001b[0;32m/usr/local/lib/python3.6/dist-packages/pandas/io/parsers.py\u001b[0m in \u001b[0;36mread\u001b[0;34m(self, nrows)\u001b[0m\n\u001b[1;32m   2035\u001b[0m     \u001b[0;32mdef\u001b[0m \u001b[0mread\u001b[0m\u001b[0;34m(\u001b[0m\u001b[0mself\u001b[0m\u001b[0;34m,\u001b[0m \u001b[0mnrows\u001b[0m\u001b[0;34m=\u001b[0m\u001b[0;32mNone\u001b[0m\u001b[0;34m)\u001b[0m\u001b[0;34m:\u001b[0m\u001b[0;34m\u001b[0m\u001b[0;34m\u001b[0m\u001b[0m\n\u001b[1;32m   2036\u001b[0m         \u001b[0;32mtry\u001b[0m\u001b[0;34m:\u001b[0m\u001b[0;34m\u001b[0m\u001b[0;34m\u001b[0m\u001b[0m\n\u001b[0;32m-> 2037\u001b[0;31m             \u001b[0mdata\u001b[0m \u001b[0;34m=\u001b[0m \u001b[0mself\u001b[0m\u001b[0;34m.\u001b[0m\u001b[0m_reader\u001b[0m\u001b[0;34m.\u001b[0m\u001b[0mread\u001b[0m\u001b[0;34m(\u001b[0m\u001b[0mnrows\u001b[0m\u001b[0;34m)\u001b[0m\u001b[0;34m\u001b[0m\u001b[0;34m\u001b[0m\u001b[0m\n\u001b[0m\u001b[1;32m   2038\u001b[0m         \u001b[0;32mexcept\u001b[0m \u001b[0mStopIteration\u001b[0m\u001b[0;34m:\u001b[0m\u001b[0;34m\u001b[0m\u001b[0;34m\u001b[0m\u001b[0m\n\u001b[1;32m   2039\u001b[0m             \u001b[0;32mif\u001b[0m \u001b[0mself\u001b[0m\u001b[0;34m.\u001b[0m\u001b[0m_first_chunk\u001b[0m\u001b[0;34m:\u001b[0m\u001b[0;34m\u001b[0m\u001b[0;34m\u001b[0m\u001b[0m\n",
            "\u001b[0;32mpandas/_libs/parsers.pyx\u001b[0m in \u001b[0;36mpandas._libs.parsers.TextReader.read\u001b[0;34m()\u001b[0m\n",
            "\u001b[0;32mpandas/_libs/parsers.pyx\u001b[0m in \u001b[0;36mpandas._libs.parsers.TextReader._read_low_memory\u001b[0;34m()\u001b[0m\n",
            "\u001b[0;32mpandas/_libs/parsers.pyx\u001b[0m in \u001b[0;36mpandas._libs.parsers.TextReader._read_rows\u001b[0;34m()\u001b[0m\n",
            "\u001b[0;32mpandas/_libs/parsers.pyx\u001b[0m in \u001b[0;36mpandas._libs.parsers.TextReader._convert_column_data\u001b[0;34m()\u001b[0m\n",
            "\u001b[0;32mpandas/_libs/parsers.pyx\u001b[0m in \u001b[0;36mpandas._libs.parsers.TextReader._convert_tokens\u001b[0;34m()\u001b[0m\n",
            "\u001b[0;32mpandas/_libs/parsers.pyx\u001b[0m in \u001b[0;36mpandas._libs.parsers.TextReader._convert_with_dtype\u001b[0;34m()\u001b[0m\n",
            "\u001b[0;32m/usr/local/lib/python3.6/dist-packages/pandas/core/dtypes/common.py\u001b[0m in \u001b[0;36mis_categorical_dtype\u001b[0;34m(arr_or_dtype)\u001b[0m\n\u001b[1;32m    540\u001b[0m \u001b[0;34m\u001b[0m\u001b[0m\n\u001b[1;32m    541\u001b[0m \u001b[0;34m\u001b[0m\u001b[0m\n\u001b[0;32m--> 542\u001b[0;31m \u001b[0;32mdef\u001b[0m \u001b[0mis_categorical_dtype\u001b[0m\u001b[0;34m(\u001b[0m\u001b[0marr_or_dtype\u001b[0m\u001b[0;34m)\u001b[0m \u001b[0;34m->\u001b[0m \u001b[0mbool\u001b[0m\u001b[0;34m:\u001b[0m\u001b[0;34m\u001b[0m\u001b[0;34m\u001b[0m\u001b[0m\n\u001b[0m\u001b[1;32m    543\u001b[0m     \"\"\"\n\u001b[1;32m    544\u001b[0m     \u001b[0mCheck\u001b[0m \u001b[0mwhether\u001b[0m \u001b[0man\u001b[0m \u001b[0marray\u001b[0m\u001b[0;34m-\u001b[0m\u001b[0mlike\u001b[0m \u001b[0;32mor\u001b[0m \u001b[0mdtype\u001b[0m \u001b[0;32mis\u001b[0m \u001b[0mof\u001b[0m \u001b[0mthe\u001b[0m \u001b[0mCategorical\u001b[0m \u001b[0mdtype\u001b[0m\u001b[0;34m.\u001b[0m\u001b[0;34m\u001b[0m\u001b[0;34m\u001b[0m\u001b[0m\n",
            "\u001b[0;31mKeyboardInterrupt\u001b[0m: "
          ]
        }
      ]
    },
    {
      "cell_type": "code",
      "metadata": {
        "ExecuteTime": {
          "end_time": "2020-05-07T16:18:10.419933Z",
          "start_time": "2020-05-07T16:18:09.764457Z"
        },
        "hideCode": false,
        "hidePrompt": false,
        "id": "7RsAk7704WcK",
        "colab_type": "code",
        "colab": {}
      },
      "source": [
        "train_db = filter_letters(train_db)\n",
        "train_db.loc[:,0] = train_db[0] -  to_substract"
      ],
      "execution_count": 0,
      "outputs": []
    },
    {
      "cell_type": "markdown",
      "metadata": {
        "hideCode": false,
        "hidePrompt": false,
        "id": "E7cIHUcG4WcO",
        "colab_type": "text"
      },
      "source": [
        "First, you might want to enrich the dataset - in separate notebook."
      ]
    },
    {
      "cell_type": "markdown",
      "metadata": {
        "hideCode": false,
        "hidePrompt": false,
        "id": "G9GhQDoP4WcO",
        "colab_type": "text"
      },
      "source": [
        "## training itself model"
      ]
    },
    {
      "cell_type": "code",
      "metadata": {
        "ExecuteTime": {
          "end_time": "2020-05-07T16:18:10.437379Z",
          "start_time": "2020-05-07T16:18:10.428233Z"
        },
        "id": "jCWAAfJj4WcP",
        "colab_type": "code",
        "colab": {}
      },
      "source": [
        "\n",
        "y_train = train_db.iloc[:,0] \n",
        "y_train = np_utils.to_categorical(y_train, num_classes)\n"
      ],
      "execution_count": 0,
      "outputs": []
    },
    {
      "cell_type": "code",
      "metadata": {
        "ExecuteTime": {
          "end_time": "2020-05-07T16:19:19.467855Z",
          "start_time": "2020-05-07T16:18:10.440741Z"
        },
        "_cell_guid": "db92487d-656a-4cec-958a-0c0c2864a2e6",
        "_uuid": "6124d2bf78a6b9b237cd4e25c0ae3986f060abbd",
        "hideCode": false,
        "hidePrompt": false,
        "id": "Nw9BOajq4WcU",
        "colab_type": "code",
        "colab": {
          "base_uri": "https://localhost:8080/",
          "height": 479
        },
        "outputId": "2a9d3c6d-cc12-405f-d77c-62a59f6981d6"
      },
      "source": [
        "from keras.utils import np_utils\n",
        "from keras.layers import Input, Dense, Dropout\n",
        "from keras.models import Model\n",
        "\n",
        "y_train = train_db.iloc[:,0]\n",
        "y_train = np_utils.to_categorical(y_train, num_classes)\n",
        "print (\"y_train:\", y_train.shape)\n",
        "\n",
        "x_train = train_db.iloc[:,1:]\n",
        "x_train = x_train.astype('float32')\n",
        "x_train /= 255\n",
        "print (\"x_train:\",x_train.shape)\n",
        "\n",
        "inp = Input(shape=(784,))\n",
        "hidden_1 = Dense(1024, activation='relu')(inp)\n",
        "dropout_1 = Dropout(0.4)(hidden_1)\n",
        "out = Dense(num_classes, activation='softmax')(hidden_1)\n",
        "model = Model(input=inp, output=out)\n",
        "\n",
        "model.compile(loss='categorical_crossentropy', # using the cross-entropy loss function\n",
        "              optimizer='adam', # using the Adam optimiser\n",
        "              metrics=['accuracy']) # reporting the accuracy\n",
        "\n",
        "model.fit(x_train, y_train, # Train the model using the training set...\n",
        "          batch_size=512, nb_epoch=10,\n",
        "          verbose=1, validation_split=0.1) # ...holding out 10% of the data for validation\n"
      ],
      "execution_count": 16,
      "outputs": [
        {
          "output_type": "stream",
          "text": [
            "y_train: (48000, 10)\n",
            "x_train: (48000, 784)\n"
          ],
          "name": "stdout"
        },
        {
          "output_type": "stream",
          "text": [
            "/usr/local/lib/python3.6/dist-packages/ipykernel_launcher.py:18: UserWarning: Update your `Model` call to the Keras 2 API: `Model(inputs=Tensor(\"in..., outputs=Tensor(\"de...)`\n",
            "/usr/local/lib/python3.6/dist-packages/ipykernel_launcher.py:26: UserWarning: The `nb_epoch` argument in `fit` has been renamed `epochs`.\n"
          ],
          "name": "stderr"
        },
        {
          "output_type": "stream",
          "text": [
            "Train on 43200 samples, validate on 4800 samples\n",
            "Epoch 1/10\n",
            "43200/43200 [==============================] - 5s 105us/step - loss: 0.6441 - accuracy: 0.8101 - val_loss: 0.6145 - val_accuracy: 0.8304\n",
            "Epoch 2/10\n",
            "43200/43200 [==============================] - 4s 103us/step - loss: 0.2823 - accuracy: 0.9234 - val_loss: 0.3687 - val_accuracy: 0.9008\n",
            "Epoch 3/10\n",
            "43200/43200 [==============================] - 4s 102us/step - loss: 0.1737 - accuracy: 0.9546 - val_loss: 0.2738 - val_accuracy: 0.9290\n",
            "Epoch 4/10\n",
            "43200/43200 [==============================] - 4s 103us/step - loss: 0.1228 - accuracy: 0.9688 - val_loss: 0.2225 - val_accuracy: 0.9394\n",
            "Epoch 5/10\n",
            "43200/43200 [==============================] - 5s 105us/step - loss: 0.0926 - accuracy: 0.9772 - val_loss: 0.1882 - val_accuracy: 0.9510\n",
            "Epoch 6/10\n",
            "43200/43200 [==============================] - 4s 104us/step - loss: 0.0726 - accuracy: 0.9825 - val_loss: 0.1767 - val_accuracy: 0.9515\n",
            "Epoch 7/10\n",
            "43200/43200 [==============================] - 4s 103us/step - loss: 0.0580 - accuracy: 0.9867 - val_loss: 0.1549 - val_accuracy: 0.9556\n",
            "Epoch 8/10\n",
            "43200/43200 [==============================] - 4s 103us/step - loss: 0.0460 - accuracy: 0.9901 - val_loss: 0.1515 - val_accuracy: 0.9556\n",
            "Epoch 9/10\n",
            "43200/43200 [==============================] - 4s 103us/step - loss: 0.0387 - accuracy: 0.9926 - val_loss: 0.1463 - val_accuracy: 0.9569\n",
            "Epoch 10/10\n",
            "43200/43200 [==============================] - 4s 103us/step - loss: 0.0311 - accuracy: 0.9947 - val_loss: 0.1452 - val_accuracy: 0.9585\n"
          ],
          "name": "stdout"
        },
        {
          "output_type": "execute_result",
          "data": {
            "text/plain": [
              "<keras.callbacks.callbacks.History at 0x7f8ac74799e8>"
            ]
          },
          "metadata": {
            "tags": []
          },
          "execution_count": 16
        }
      ]
    },
    {
      "cell_type": "markdown",
      "metadata": {
        "hideCode": false,
        "hidePrompt": false,
        "id": "EyLXKfvE4Wcb",
        "colab_type": "text"
      },
      "source": [
        "## model save"
      ]
    },
    {
      "cell_type": "code",
      "metadata": {
        "ExecuteTime": {
          "end_time": "2020-05-07T16:19:21.517030Z",
          "start_time": "2020-05-07T16:19:20.488812Z"
        },
        "hideCode": false,
        "hidePrompt": false,
        "id": "jI-mx7bX4Wcc",
        "colab_type": "code",
        "colab": {
          "base_uri": "https://localhost:8080/",
          "height": 34
        },
        "outputId": "dea9c368-05ed-459b-8797-22ea944fc48c"
      },
      "source": [
        "import json\n",
        " \n",
        "# serialize model to JSON\n",
        "model_json = model.to_json()\n",
        "with open(f\"{path_to_model}model_{TYPE}.json\", \"w\") as json_file:\n",
        "    json_file.write(model_json)\n",
        "# serialize weights to HDF5\n",
        "model.save_weights(f\"{path_to_model}model_{TYPE}.h5\")\n",
        "\n",
        " \n",
        "with open(f\"{path_to_model}model_{TYPE}_mapping.json\", \"w\") as json_file:\n",
        "    json.dump(res_mapper, json_file)\n",
        "    \n",
        "\n",
        "print(\"Saved model to disk\")\n"
      ],
      "execution_count": 30,
      "outputs": [
        {
          "output_type": "stream",
          "text": [
            "Saved model to disk\n"
          ],
          "name": "stdout"
        }
      ]
    },
    {
      "cell_type": "markdown",
      "metadata": {
        "hideCode": false,
        "hidePrompt": false,
        "id": "8CmpOqYH4Wcg",
        "colab_type": "text"
      },
      "source": [
        "# Testing the model"
      ]
    },
    {
      "cell_type": "markdown",
      "metadata": {
        "hideCode": false,
        "hidePrompt": false,
        "id": "_mbFTvQz4Wcg",
        "colab_type": "text"
      },
      "source": [
        "## model load"
      ]
    },
    {
      "cell_type": "code",
      "metadata": {
        "ExecuteTime": {
          "end_time": "2020-05-07T17:45:39.757638Z",
          "start_time": "2020-05-07T17:45:37.826842Z"
        },
        "hideCode": false,
        "hidePrompt": false,
        "id": "nCfOHKQC4Wch",
        "colab_type": "code",
        "colab": {
          "base_uri": "https://localhost:8080/",
          "height": 51
        },
        "outputId": "c9c3328a-4f59-42e1-a13f-1c3bf82c1745"
      },
      "source": [
        "from keras.models import model_from_json\n",
        "\n",
        "test_db  = pd.read_csv(path_to_data + \"emnist-balanced-enriched-test.csv\")\n",
        "test_db = filter_letters(test_db)\n",
        "y_test = test_db.iloc[:,0]\n",
        "y_test = np_utils.to_categorical(y_test, num_classes)\n",
        "test_db.iloc[:,0] = test_db.iloc[:, 0] -  to_substract\n",
        "\n",
        "x_test = test_db.iloc[:,1:]\n",
        "x_test = x_test.astype('float32')\n",
        "x_test /= 255\n",
        "\n",
        "\n",
        "# load json and create model\n",
        "json_file = open(path_to_model + f'model_{TYPE}.json', 'r')\n",
        "loaded_model_json = json_file.read()\n",
        "json_file.close()\n",
        "model = model_from_json(loaded_model_json)\n",
        "# load weights into new model\n",
        "model.load_weights(path_to_model + f'model_{TYPE}.h5')\n",
        "print(\"Loaded model from disk\")\n",
        " \n",
        "# evaluate loaded model on test data\n",
        "model.compile(loss='categorical_crossentropy', # using the cross-entropy loss function\n",
        "              optimizer='adam', # using the Adam optimiser\n",
        "              metrics=['accuracy']) # reporting the accuracy\n",
        "\n",
        "\n",
        "scores = model.evaluate(x_test, y_test, verbose=0)\n",
        "print(\"%s: %.2f%%\" % (model.metrics_names[1], scores[1]*100))"
      ],
      "execution_count": 4,
      "outputs": [
        {
          "output_type": "stream",
          "text": [
            "Loaded model from disk\n",
            "accuracy: 96.91%\n"
          ],
          "name": "stdout"
        }
      ]
    },
    {
      "cell_type": "markdown",
      "metadata": {
        "hideCode": false,
        "hidePrompt": false,
        "id": "VOBN81l74Wcm",
        "colab_type": "text"
      },
      "source": [
        "## Display data from dataset"
      ]
    },
    {
      "cell_type": "code",
      "metadata": {
        "ExecuteTime": {
          "end_time": "2020-05-07T16:21:02.560829Z",
          "start_time": "2020-05-07T16:21:02.553848Z"
        },
        "hideCode": false,
        "hidePrompt": false,
        "id": "0Upoy9124Wcm",
        "colab_type": "code",
        "colab": {}
      },
      "source": [
        "def show_letter_from_db(img):\n",
        "    img = img.astype('uint8')\n",
        "    img = img.reshape((28,28))\n",
        "    img = img.transpose()\n",
        "    img = cv2.bitwise_not(img)\n",
        "    \n",
        "    display(PIL.Image.fromarray(img))\n",
        "    return img"
      ],
      "execution_count": 0,
      "outputs": []
    },
    {
      "cell_type": "code",
      "metadata": {
        "ExecuteTime": {
          "end_time": "2020-05-07T16:21:03.770069Z",
          "start_time": "2020-05-07T16:21:03.765521Z"
        },
        "hideCode": false,
        "hidePrompt": false,
        "id": "EBpKeT5f4Wcp",
        "colab_type": "code",
        "colab": {}
      },
      "source": [
        "def revert_showing(img):\n",
        "    img = cv2.bitwise_not(img)\n",
        "    img = img.transpose()\n",
        "    img = img.ravel()\n",
        "    img = img.astype('int64') \n",
        "    return img"
      ],
      "execution_count": 0,
      "outputs": []
    },
    {
      "cell_type": "code",
      "metadata": {
        "ExecuteTime": {
          "end_time": "2020-05-07T16:21:04.994200Z",
          "start_time": "2020-05-07T16:21:04.989520Z"
        },
        "hideCode": false,
        "hidePrompt": false,
        "id": "UiphURii4Wcs",
        "colab_type": "code",
        "colab": {}
      },
      "source": [
        "def display_char(i):\n",
        "    label = test_db.iloc[i].values[0]\n",
        "    char = res_mapper.get(label)\n",
        "    img = test_db.iloc[i].values[1:]\n",
        "    \n",
        "    print(\"=============\")\n",
        "    show_letter_from_db(img)\n",
        "    print(f\"label: {char}\")\n",
        "    \n",
        "    pred = model.predict(np.array([img]))\n",
        "    pred_val = res_mapper.get(pred[0].argmax())\n",
        "    print(f\"Prediction: {pred_val}\")\n"
      ],
      "execution_count": 0,
      "outputs": []
    },
    {
      "cell_type": "code",
      "metadata": {
        "ExecuteTime": {
          "end_time": "2020-05-07T16:21:06.094651Z",
          "start_time": "2020-05-07T16:21:05.958486Z"
        },
        "hideCode": false,
        "hidePrompt": false,
        "scrolled": false,
        "id": "ZFqJZbKd4Wcv",
        "colab_type": "code",
        "colab": {
          "base_uri": "https://localhost:8080/",
          "height": 1000
        },
        "outputId": "f61f2d33-0c30-41e2-ec8d-db574fd6ca6b"
      },
      "source": [
        "for i in range (15):\n",
        "    display_char(i)"
      ],
      "execution_count": 8,
      "outputs": [
        {
          "output_type": "stream",
          "text": [
            "=============\n"
          ],
          "name": "stdout"
        },
        {
          "output_type": "display_data",
          "data": {
            "image/png": "[encoded data removed]",
            "text/plain": [
              "<PIL.Image.Image image mode=L size=28x28 at 0x7F6D9C2DDE80>"
            ]
          },
          "metadata": {
            "tags": []
          }
        },
        {
          "output_type": "stream",
          "text": [
            "label: 9\n",
            "Prediction: 9\n",
            "=============\n"
          ],
          "name": "stdout"
        },
        {
          "output_type": "display_data",
          "data": {
            "image/png": "[encoded data removed]",
            "text/plain": [
              "<PIL.Image.Image image mode=L size=28x28 at 0x7F6D93FAC438>"
            ]
          },
          "metadata": {
            "tags": []
          }
        },
        {
          "output_type": "stream",
          "text": [
            "label: 3\n",
            "Prediction: 3\n",
            "=============\n"
          ],
          "name": "stdout"
        },
        {
          "output_type": "display_data",
          "data": {
            "image/png": "[encoded data removed]",
            "text/plain": [
              "<PIL.Image.Image image mode=L size=28x28 at 0x7F6D93FAC518>"
            ]
          },
          "metadata": {
            "tags": []
          }
        },
        {
          "output_type": "stream",
          "text": [
            "label: 7\n",
            "Prediction: 7\n",
            "=============\n"
          ],
          "name": "stdout"
        },
        {
          "output_type": "display_data",
          "data": {
            "image/png": "[encoded data removed]",
            "text/plain": [
              "<PIL.Image.Image image mode=L size=28x28 at 0x7F6D93FAC518>"
            ]
          },
          "metadata": {
            "tags": []
          }
        },
        {
          "output_type": "stream",
          "text": [
            "label: 2\n",
            "Prediction: 2\n",
            "=============\n"
          ],
          "name": "stdout"
        },
        {
          "output_type": "display_data",
          "data": {
            "image/png": "[encoded data removed]",
            "text/plain": [
              "<PIL.Image.Image image mode=L size=28x28 at 0x7F6D93FBBD68>"
            ]
          },
          "metadata": {
            "tags": []
          }
        },
        {
          "output_type": "stream",
          "text": [
            "label: 6\n",
            "Prediction: 6\n",
            "=============\n"
          ],
          "name": "stdout"
        },
        {
          "output_type": "display_data",
          "data": {
            "image/png": "[encoded data removed]",
            "text/plain": [
              "<PIL.Image.Image image mode=L size=28x28 at 0x7F6D93FBBDD8>"
            ]
          },
          "metadata": {
            "tags": []
          }
        },
        {
          "output_type": "stream",
          "text": [
            "label: 8\n",
            "Prediction: 8\n",
            "=============\n"
          ],
          "name": "stdout"
        },
        {
          "output_type": "display_data",
          "data": {
            "image/png": "[encoded data removed]",
            "text/plain": [
              "<PIL.Image.Image image mode=L size=28x28 at 0x7F6D93FBBE48>"
            ]
          },
          "metadata": {
            "tags": []
          }
        },
        {
          "output_type": "stream",
          "text": [
            "label: 4\n",
            "Prediction: 4\n",
            "=============\n"
          ],
          "name": "stdout"
        },
        {
          "output_type": "display_data",
          "data": {
            "image/png": "[encoded data removed]",
            "text/plain": [
              "<PIL.Image.Image image mode=L size=28x28 at 0x7F6D93FBBE48>"
            ]
          },
          "metadata": {
            "tags": []
          }
        },
        {
          "output_type": "stream",
          "text": [
            "label: 1\n",
            "Prediction: 1\n",
            "=============\n"
          ],
          "name": "stdout"
        },
        {
          "output_type": "display_data",
          "data": {
            "image/png": "[encoded data removed]",
            "text/plain": [
              "<PIL.Image.Image image mode=L size=28x28 at 0x7F6D93FBBF28>"
            ]
          },
          "metadata": {
            "tags": []
          }
        },
        {
          "output_type": "stream",
          "text": [
            "label: 3\n",
            "Prediction: 3\n",
            "=============\n"
          ],
          "name": "stdout"
        },
        {
          "output_type": "display_data",
          "data": {
            "image/png": "[encoded data removed]",
            "text/plain": [
              "<PIL.Image.Image image mode=L size=28x28 at 0x7F6D93FBBF60>"
            ]
          },
          "metadata": {
            "tags": []
          }
        },
        {
          "output_type": "stream",
          "text": [
            "label: 5\n",
            "Prediction: 5\n",
            "=============\n"
          ],
          "name": "stdout"
        },
        {
          "output_type": "display_data",
          "data": {
            "image/png": "[encoded data removed]",
            "text/plain": [
              "<PIL.Image.Image image mode=L size=28x28 at 0x7F6D93FBBF60>"
            ]
          },
          "metadata": {
            "tags": []
          }
        },
        {
          "output_type": "stream",
          "text": [
            "label: 1\n",
            "Prediction: 1\n",
            "=============\n"
          ],
          "name": "stdout"
        },
        {
          "output_type": "display_data",
          "data": {
            "image/png": "[encoded data removed]",
            "text/plain": [
              "<PIL.Image.Image image mode=L size=28x28 at 0x7F6D93FC2080>"
            ]
          },
          "metadata": {
            "tags": []
          }
        },
        {
          "output_type": "stream",
          "text": [
            "label: 6\n",
            "Prediction: 6\n",
            "=============\n"
          ],
          "name": "stdout"
        },
        {
          "output_type": "display_data",
          "data": {
            "image/png": "[encoded data removed]",
            "text/plain": [
              "<PIL.Image.Image image mode=L size=28x28 at 0x7F6D93FC2128>"
            ]
          },
          "metadata": {
            "tags": []
          }
        },
        {
          "output_type": "stream",
          "text": [
            "label: 0\n",
            "Prediction: 0\n",
            "=============\n"
          ],
          "name": "stdout"
        },
        {
          "output_type": "display_data",
          "data": {
            "image/png": "[encoded data removed]",
            "text/plain": [
              "<PIL.Image.Image image mode=L size=28x28 at 0x7F6D93FC20F0>"
            ]
          },
          "metadata": {
            "tags": []
          }
        },
        {
          "output_type": "stream",
          "text": [
            "label: 2\n",
            "Prediction: 2\n",
            "=============\n"
          ],
          "name": "stdout"
        },
        {
          "output_type": "display_data",
          "data": {
            "image/png": "[encoded data removed]",
            "text/plain": [
              "<PIL.Image.Image image mode=L size=28x28 at 0x7F6D93FC2198>"
            ]
          },
          "metadata": {
            "tags": []
          }
        },
        {
          "output_type": "stream",
          "text": [
            "label: 3\n",
            "Prediction: 3\n"
          ],
          "name": "stdout"
        }
      ]
    },
    {
      "cell_type": "markdown",
      "metadata": {
        "hideCode": false,
        "hidePrompt": false,
        "id": "GmF3LvQN4Wcz",
        "colab_type": "text"
      },
      "source": [
        "## data from our forms"
      ]
    },
    {
      "cell_type": "code",
      "metadata": {
        "id": "lF3CHPvVKMqK",
        "colab_type": "code",
        "colab": {}
      },
      "source": [
        "import sys"
      ],
      "execution_count": 0,
      "outputs": []
    },
    {
      "cell_type": "code",
      "metadata": {
        "id": "NEvvMU6iKOW0",
        "colab_type": "code",
        "colab": {}
      },
      "source": [
        "\n",
        "sys.path += [\"/content/drive/My Drive/UniHack/fast-form/\"]"
      ],
      "execution_count": 0,
      "outputs": []
    },
    {
      "cell_type": "code",
      "metadata": {
        "id": "crlBe9pYKePj",
        "colab_type": "code",
        "colab": {
          "base_uri": "https://localhost:8080/",
          "height": 187
        },
        "outputId": "4571eddd-f8bc-42af-8edc-f11c1132265d"
      },
      "source": [
        "sys.path"
      ],
      "execution_count": 11,
      "outputs": [
        {
          "output_type": "execute_result",
          "data": {
            "text/plain": [
              "['',\n",
              " '/env/python',\n",
              " '/usr/lib/python36.zip',\n",
              " '/usr/lib/python3.6',\n",
              " '/usr/lib/python3.6/lib-dynload',\n",
              " '/usr/local/lib/python3.6/dist-packages',\n",
              " '/usr/lib/python3/dist-packages',\n",
              " '/usr/local/lib/python3.6/dist-packages/IPython/extensions',\n",
              " '/root/.ipython',\n",
              " '/content/drive/My Drive/UniHack/fast-form/']"
            ]
          },
          "metadata": {
            "tags": []
          },
          "execution_count": 11
        }
      ]
    },
    {
      "cell_type": "code",
      "metadata": {
        "ExecuteTime": {
          "end_time": "2020-05-07T16:21:07.483141Z",
          "start_time": "2020-05-07T16:21:07.319384Z"
        },
        "hideCode": false,
        "hidePrompt": false,
        "id": "1RIud_Yg4Wc0",
        "colab_type": "code",
        "colab": {}
      },
      "source": [
        "from structure_parser.formstructureparser import FormStructureParser\n",
        "from field_recognizer.recognize_all import recognize\n",
        "from preprocessing.preprocess import preprocess\n",
        "import json\n",
        "from field_recognizer.model import load_model, load_result_mapper\n",
        "from main import process_document, output_data\n",
        "image_path = path_to_forms + \"scan1.jpg\"\n",
        "with open(path_to_forms + \"config.json\", 'r') as f:\n",
        "    config = json.load(f) \n",
        "\n",
        "fsp = FormStructureParser(config)\n",
        "\n",
        "im = cv2.imread(image_path)\n",
        "\n",
        "im = preprocess(im, config)\n",
        "form_data = fsp.process_form(im)"
      ],
      "execution_count": 0,
      "outputs": []
    },
    {
      "cell_type": "code",
      "metadata": {
        "ExecuteTime": {
          "end_time": "2020-05-07T16:21:09.182874Z",
          "start_time": "2020-05-07T16:21:09.180413Z"
        },
        "hideCode": false,
        "hidePrompt": false,
        "id": "NB1BBzrs4Wc4",
        "colab_type": "code",
        "colab": {}
      },
      "source": [
        "imgs = [im for field in form_data[\"fields\"] for im in field[\"box_data\"] if field[\"type\"] ==TYPE]"
      ],
      "execution_count": 0,
      "outputs": []
    },
    {
      "cell_type": "code",
      "metadata": {
        "ExecuteTime": {
          "end_time": "2020-05-07T16:21:10.800096Z",
          "start_time": "2020-05-07T16:21:10.794053Z"
        },
        "hideCode": false,
        "hidePrompt": false,
        "id": "415TacXw4Wc7",
        "colab_type": "code",
        "colab": {}
      },
      "source": [
        "# preproces to training format\n",
        "from field_recognizer.recognize_letters import preprocess_img, prepare_for_model_format, resize, thicken\n",
        "\n",
        "def predict(img):\n",
        "  img_m = prepare_for_model_format(img)\n",
        "        \n",
        "  img_m = img_m.astype('float32')\n",
        "  img_m /= 255\n",
        "  \n",
        "  \n",
        "  pred = model.predict(np.array([img_m]))\n",
        "  pred_val = res_mapper.get(pred[0].argmax())\n",
        "  \n",
        "  conf_dict = {res_mapper.get(i):round(v,3) for i,v in enumerate(pred[0])}\n",
        "  conf_dict = {k: v for k, v in sorted(conf_dict.items(), key=lambda item: item[1], reverse=True) if v>0} # sort\n",
        "  print(pred_val)\n",
        "  print(conf_dict)\n"
      ],
      "execution_count": 0,
      "outputs": []
    },
    {
      "cell_type": "code",
      "metadata": {
        "ExecuteTime": {
          "end_time": "2020-05-07T16:21:12.627038Z",
          "start_time": "2020-05-07T16:21:12.559590Z"
        },
        "hideCode": false,
        "hidePrompt": false,
        "scrolled": false,
        "id": "xXekzaPg4Wc9",
        "colab_type": "code",
        "colab": {
          "base_uri": "https://localhost:8080/",
          "height": 1000
        },
        "outputId": "5675a4bf-ea17-4ed1-d244-527c9e8b4015"
      },
      "source": [
        "for img in [img for img in imgs if len(img)>0]:\n",
        "    print (\"=================================\")\n",
        "    print(\"original:\")\n",
        "    display(PIL.Image.fromarray(img))\n",
        "    img = resize(thicken(img),28,4)\n",
        "    # img = preprocess_img(img)\n",
        "    print(\"preprocessed:\")\n",
        "    display(PIL.Image.fromarray(cv2.resize(img,(60,60))))\n",
        "    predict(img)"
      ],
      "execution_count": 48,
      "outputs": [
        {
          "output_type": "stream",
          "text": [
            "=================================\n",
            "original:\n"
          ],
          "name": "stdout"
        },
        {
          "output_type": "display_data",
          "data": {
            "image/png": "[encoded data removed]",
            "text/plain": [
              "<PIL.Image.Image image mode=L size=19x46 at 0x7F6D93FD1550>"
            ]
          },
          "metadata": {
            "tags": []
          }
        },
        {
          "output_type": "stream",
          "text": [
            "preprocessed:\n"
          ],
          "name": "stdout"
        },
        {
          "output_type": "display_data",
          "data": {
            "image/png": "[encoded data removed]",
            "text/plain": [
              "<PIL.Image.Image image mode=L size=60x60 at 0x7F6D93FD1588>"
            ]
          },
          "metadata": {
            "tags": []
          }
        },
        {
          "output_type": "stream",
          "text": [
            "0\n",
            "{'0': 0.866, '8': 0.083, '5': 0.024, '1': 0.012, '3': 0.004, '4': 0.003, '6': 0.003, '9': 0.003, '2': 0.001, '7': 0.001}\n",
            "=================================\n",
            "original:\n"
          ],
          "name": "stdout"
        },
        {
          "output_type": "display_data",
          "data": {
            "image/png": "[encoded data removed]",
            "text/plain": [
              "<PIL.Image.Image image mode=L size=26x45 at 0x7F6D93FD1F28>"
            ]
          },
          "metadata": {
            "tags": []
          }
        },
        {
          "output_type": "stream",
          "text": [
            "preprocessed:\n"
          ],
          "name": "stdout"
        },
        {
          "output_type": "display_data",
          "data": {
            "image/png": "[encoded data removed]",
            "text/plain": [
              "<PIL.Image.Image image mode=L size=60x60 at 0x7F6D93D4EB38>"
            ]
          },
          "metadata": {
            "tags": []
          }
        },
        {
          "output_type": "stream",
          "text": [
            "3\n",
            "{'3': 0.988, '5': 0.007, '9': 0.003, '1': 0.001}\n",
            "=================================\n",
            "original:\n"
          ],
          "name": "stdout"
        },
        {
          "output_type": "display_data",
          "data": {
            "image/png": "[encoded data removed]",
            "text/plain": [
              "<PIL.Image.Image image mode=L size=22x38 at 0x7F6D93ED3588>"
            ]
          },
          "metadata": {
            "tags": []
          }
        },
        {
          "output_type": "stream",
          "text": [
            "preprocessed:\n"
          ],
          "name": "stdout"
        },
        {
          "output_type": "display_data",
          "data": {
            "image/png": "[encoded data removed]",
            "text/plain": [
              "<PIL.Image.Image image mode=L size=60x60 at 0x7F6D93ED3588>"
            ]
          },
          "metadata": {
            "tags": []
          }
        },
        {
          "output_type": "stream",
          "text": [
            "0\n",
            "{'0': 0.998, '7': 0.001}\n",
            "=================================\n",
            "original:\n"
          ],
          "name": "stdout"
        },
        {
          "output_type": "display_data",
          "data": {
            "image/png": "[encoded data removed]",
            "text/plain": [
              "<PIL.Image.Image image mode=L size=26x46 at 0x7F6D93ED37B8>"
            ]
          },
          "metadata": {
            "tags": []
          }
        },
        {
          "output_type": "stream",
          "text": [
            "preprocessed:\n"
          ],
          "name": "stdout"
        },
        {
          "output_type": "display_data",
          "data": {
            "image/png": "[encoded data removed]",
            "text/plain": [
              "<PIL.Image.Image image mode=L size=60x60 at 0x7F6D93ED3588>"
            ]
          },
          "metadata": {
            "tags": []
          }
        },
        {
          "output_type": "stream",
          "text": [
            "5\n",
            "{'5': 0.748, '3': 0.244, '9': 0.005, '8': 0.002}\n",
            "=================================\n",
            "original:\n"
          ],
          "name": "stdout"
        },
        {
          "output_type": "display_data",
          "data": {
            "image/png": "[encoded data removed]",
            "text/plain": [
              "<PIL.Image.Image image mode=L size=29x48 at 0x7F6D93ED39E8>"
            ]
          },
          "metadata": {
            "tags": []
          }
        },
        {
          "output_type": "stream",
          "text": [
            "preprocessed:\n"
          ],
          "name": "stdout"
        },
        {
          "output_type": "display_data",
          "data": {
            "image/png": "[encoded data removed]",
            "text/plain": [
              "<PIL.Image.Image image mode=L size=60x60 at 0x7F6D93ED3588>"
            ]
          },
          "metadata": {
            "tags": []
          }
        },
        {
          "output_type": "stream",
          "text": [
            "2\n",
            "{'2': 0.978, '1': 0.019, '8': 0.002, '5': 0.001}\n",
            "=================================\n",
            "original:\n"
          ],
          "name": "stdout"
        },
        {
          "output_type": "display_data",
          "data": {
            "image/png": "[encoded data removed]",
            "text/plain": [
              "<PIL.Image.Image image mode=L size=20x40 at 0x7F6D93ED3D68>"
            ]
          },
          "metadata": {
            "tags": []
          }
        },
        {
          "output_type": "stream",
          "text": [
            "preprocessed:\n"
          ],
          "name": "stdout"
        },
        {
          "output_type": "display_data",
          "data": {
            "image/png": "[encoded data removed]",
            "text/plain": [
              "<PIL.Image.Image image mode=L size=60x60 at 0x7F6D93ED37B8>"
            ]
          },
          "metadata": {
            "tags": []
          }
        },
        {
          "output_type": "stream",
          "text": [
            "0\n",
            "{'0': 0.99, '1': 0.007, '5': 0.001, '8': 0.001}\n",
            "=================================\n",
            "original:\n"
          ],
          "name": "stdout"
        },
        {
          "output_type": "display_data",
          "data": {
            "image/png": "[encoded data removed]",
            "text/plain": [
              "<PIL.Image.Image image mode=L size=27x41 at 0x7F6D93ED3940>"
            ]
          },
          "metadata": {
            "tags": []
          }
        },
        {
          "output_type": "stream",
          "text": [
            "preprocessed:\n"
          ],
          "name": "stdout"
        },
        {
          "output_type": "display_data",
          "data": {
            "image/png": "[encoded data removed]",
            "text/plain": [
              "<PIL.Image.Image image mode=L size=60x60 at 0x7F6D93ED39E8>"
            ]
          },
          "metadata": {
            "tags": []
          }
        },
        {
          "output_type": "stream",
          "text": [
            "2\n",
            "{'2': 1.0}\n",
            "=================================\n",
            "original:\n"
          ],
          "name": "stdout"
        },
        {
          "output_type": "display_data",
          "data": {
            "image/png": "[encoded data removed]",
            "text/plain": [
              "<PIL.Image.Image image mode=L size=25x44 at 0x7F6D93ED3860>"
            ]
          },
          "metadata": {
            "tags": []
          }
        },
        {
          "output_type": "stream",
          "text": [
            "preprocessed:\n"
          ],
          "name": "stdout"
        },
        {
          "output_type": "display_data",
          "data": {
            "image/png": "[encoded data removed]",
            "text/plain": [
              "<PIL.Image.Image image mode=L size=60x60 at 0x7F6D93ED3940>"
            ]
          },
          "metadata": {
            "tags": []
          }
        },
        {
          "output_type": "stream",
          "text": [
            "0\n",
            "{'0': 0.975, '6': 0.014, '5': 0.01}\n"
          ],
          "name": "stdout"
        }
      ]
    },
    {
      "cell_type": "code",
      "metadata": {
        "id": "RywMJmsnLW_i",
        "colab_type": "code",
        "colab": {}
      },
      "source": [
        ""
      ],
      "execution_count": 0,
      "outputs": []
    }
  ]
}