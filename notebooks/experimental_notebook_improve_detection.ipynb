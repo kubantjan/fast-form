{
 "cells": [
  {
   "cell_type": "code",
   "execution_count": null,
   "metadata": {
    "hideCode": false,
    "hidePrompt": false
   },
   "outputs": [],
   "source": [
    "%load_ext autoreload\n",
    "\n",
    "%autoreload 2\n",
    "import os\n",
    "cwd = os.getcwd()\n",
    "\n",
    "while not cwd.endswith(\"fast-form\"):\n",
    "    os.chdir(\"../\")\n",
    "    cwd = os.getcwd()\n",
    "print(f\"CWD is: {cwd}\")"
   ]
  },
  {
   "cell_type": "code",
   "execution_count": null,
   "metadata": {
    "hideCode": false,
    "hidePrompt": false
   },
   "outputs": [],
   "source": [
    "import json\n",
    "import cv2\n",
    "import matplotlib.pyplot as plt"
   ]
  },
  {
   "cell_type": "code",
   "execution_count": null,
   "metadata": {
    "hideCode": false,
    "hidePrompt": false
   },
   "outputs": [],
   "source": [
    "from IPython.display import Image\n",
    "import PIL.Image"
   ]
  },
  {
   "cell_type": "code",
   "execution_count": null,
   "metadata": {
    "hideCode": false,
    "hidePrompt": false
   },
   "outputs": [],
   "source": [
    "template_path = \"./tests/form_for_test/template.jpg\"\n",
    "document_path = \"./tests/form_for_test/document.jpg\"\n",
    "\n",
    "template_path = \"./real_forms/justyna_dotazniky/template.pdf\"\n",
    "document_path = \"./real_forms/justyna_dotazniky/document.jpg\"\n",
    "\n",
    "template_path = \"./real_forms/justyna_dotazniky/PID empty.pdf\"\n",
    "document_path = \"./real_forms/justyna_dotazniky/justyna_scan_1.pdf\""
   ]
  },
  {
   "cell_type": "code",
   "execution_count": null,
   "metadata": {
    "hideCode": false,
    "hidePrompt": false
   },
   "outputs": [],
   "source": [
    "from preprocessing.preprocess import normalize, fit_image_to_templates\n",
    "\n",
    "from preprocessing.templating import get_templates"
   ]
  },
  {
   "cell_type": "code",
   "execution_count": null,
   "metadata": {
    "hideCode": false,
    "hidePrompt": false
   },
   "outputs": [],
   "source": [
    "from utils.image_loading import load_images_from_path"
   ]
  },
  {
   "cell_type": "code",
   "execution_count": null,
   "metadata": {
    "hideCode": false,
    "hidePrompt": false
   },
   "outputs": [],
   "source": [
    "N=0"
   ]
  },
  {
   "cell_type": "code",
   "execution_count": null,
   "metadata": {
    "hideCode": false,
    "hidePrompt": false
   },
   "outputs": [],
   "source": [
    "%matplotlib inline\n",
    "# template_img = cv2.imread(template_path)\n",
    "# plt.imshow(template_img)\n",
    "# plt.show()\n",
    "images = load_images_from_path(document_path)\n",
    "for image in images[:2]:\n",
    "    plt.figure(figsize = (10,10))\n",
    "    plt.imshow(image)\n",
    "    \n",
    "    plt.show()\n",
    "    \n",
    "image = images[N]"
   ]
  },
  {
   "cell_type": "code",
   "execution_count": null,
   "metadata": {
    "hideCode": false,
    "hidePrompt": false
   },
   "outputs": [],
   "source": [
    "%matplotlib inline\n",
    "# im = normalize(template_img)\n",
    "# plt.figure(figsize = (10,10))\n",
    "# plt.imshow(im)\n",
    "# plt.show()\n",
    "normalized_image = normalize(image)\n",
    "plt.figure(figsize = (10,10))\n",
    "plt.imshow(normalized_image)\n",
    "plt.show()"
   ]
  },
  {
   "cell_type": "code",
   "execution_count": null,
   "metadata": {
    "hideCode": false,
    "hidePrompt": false
   },
   "outputs": [],
   "source": [
    "templates = get_templates(template_path)"
   ]
  },
  {
   "cell_type": "code",
   "execution_count": null,
   "metadata": {
    "hideCode": false,
    "hidePrompt": false
   },
   "outputs": [],
   "source": [
    "templates_to_use = [templates[N]]"
   ]
  },
  {
   "cell_type": "code",
   "execution_count": null,
   "metadata": {
    "hideCode": false,
    "hidePrompt": false
   },
   "outputs": [],
   "source": [
    "fitted_image, page = fit_image_to_templates(normalized_image, templates_to_use)\n",
    "template_image = templates_to_use[0].image"
   ]
  },
  {
   "cell_type": "code",
   "execution_count": null,
   "metadata": {
    "hideCode": false,
    "hidePrompt": false
   },
   "outputs": [],
   "source": [
    "comparison_image = fitted_image/3 + template_image"
   ]
  },
  {
   "cell_type": "code",
   "execution_count": null,
   "metadata": {
    "hideCode": false,
    "hidePrompt": false
   },
   "outputs": [],
   "source": [
    "comparison_image = fitted_image/3 + template_image\n",
    "print(f\"Match found for page {page}\")\n",
    "plt.figure(figsize = (10,10))\n",
    "plt.imshow(comparison_image)\n",
    "plt.show()"
   ]
  },
  {
   "cell_type": "code",
   "execution_count": null,
   "metadata": {
    "hideCode": false,
    "hidePrompt": false
   },
   "outputs": [],
   "source": [
    "def add_black_points(img1, img2):\n",
    "    size1 = img1.shape\n",
    "    size2 = img2.shape\n",
    "    \n",
    "    x_shape = max(size1[0],size2[0])\n",
    "    y_shape = max(size1[1],size2[1])\n",
    "    \n",
    "    empty_new_image = np.zeros((x_shape,y_shape)) + 255\n",
    "    \n",
    "    img1_new = empty_new_image.copy()\n",
    "    img1_new[:size1[0],:size1[1]] = img1\n",
    "    \n",
    "    img2_new = empty_new_image.copy()\n",
    "    img2_new[:size2[0],:size2[1]] = img2\n",
    "    \n",
    "    return img1_new, img2_new"
   ]
  },
  {
   "cell_type": "code",
   "execution_count": null,
   "metadata": {
    "hideCode": false,
    "hidePrompt": false
   },
   "outputs": [],
   "source": [
    "img1, img2 = add_black_points(original_for_show, fitted_image)\n",
    "\n",
    "\n",
    "print(f\"Match found for page {page}\")\n",
    "plt.figure(figsize = (10,10))\n",
    "plt.imshow(original_for_show)\n",
    "\n",
    "plt.show()"
   ]
  },
  {
   "cell_type": "code",
   "execution_count": null,
   "metadata": {
    "hideCode": false,
    "hidePrompt": false
   },
   "outputs": [],
   "source": [
    "import cv2\n",
    "import numpy as np\n",
    "\n",
    "def move_image(img,x,y):\n",
    "\n",
    "    # The number of pixels\n",
    "    num_rows, num_cols = img.shape[:2]\n",
    "\n",
    "    # Creating a translation matrix\n",
    "    translation_matrix = np.float32([ [1,0,x], [0,1,y] ])\n",
    "\n",
    "    # Image translation\n",
    "    return cv2.warpAffine(img, translation_matrix, (num_cols,num_rows))"
   ]
  },
  {
   "cell_type": "code",
   "execution_count": null,
   "metadata": {
    "hideCode": false,
    "hidePrompt": false
   },
   "outputs": [],
   "source": [
    "def rotate_image(image, angle):\n",
    "    image_center = tuple(np.array(image.shape[1::-1]) / 2)\n",
    "    rot_mat = cv2.getRotationMatrix2D(image_center, angle, 1.0)\n",
    "    result = cv2.warpAffine(image, rot_mat, image.shape[1::-1], flags=cv2.INTER_LINEAR)\n",
    "    return result\n",
    "\n",
    "def resize_image(image, ratio):\n",
    "    return cv2.resize(image, (0,0), fx=ratio, fy=ratio)\n"
   ]
  },
  {
   "cell_type": "code",
   "execution_count": null,
   "metadata": {
    "hideCode": false,
    "hidePrompt": false
   },
   "outputs": [],
   "source": [
    "from itertools import product"
   ]
  },
  {
   "cell_type": "code",
   "execution_count": null,
   "metadata": {
    "hideCode": false,
    "hidePrompt": false
   },
   "outputs": [],
   "source": [
    "angles = np.arange(-5,5,3)\n",
    "sizes = np.arange(0.9,1.1,0.1)[:1]\n",
    "movements_x = np.arange(-30,30,20)\n",
    "movements_y = np.arange(-30,30,20)"
   ]
  },
  {
   "cell_type": "code",
   "execution_count": null,
   "metadata": {},
   "outputs": [],
   "source": [
    "def resize_appropriately(image, template):\n",
    "    img = cv2.resize(image,(0,0), fx=template.shape[0]/image.shape[0], fy=template.shape[0]/image.shape[0])\n",
    "    return add_black_points(img, template)"
   ]
  },
  {
   "cell_type": "code",
   "execution_count": null,
   "metadata": {},
   "outputs": [],
   "source": [
    "def convolute(img1, img2):\n",
    "    return sum(sum((255 - img1)/255 * (255-img2)/255))"
   ]
  },
  {
   "cell_type": "code",
   "execution_count": null,
   "metadata": {},
   "outputs": [],
   "source": [
    "mm = np.float32([[1,0,3],[0,1,5]])"
   ]
  },
  {
   "cell_type": "code",
   "execution_count": null,
   "metadata": {},
   "outputs": [],
   "source": [
    "for i in range(1,200):\n",
    "    cv2.warpAffine(image, M=mm,dsize = image.shape[1::-1])"
   ]
  },
  {
   "cell_type": "code",
   "execution_count": null,
   "metadata": {},
   "outputs": [],
   "source": []
  },
  {
   "cell_type": "code",
   "execution_count": null,
   "metadata": {
    "hideCode": false,
    "hidePrompt": false
   },
   "outputs": [],
   "source": [
    "image, template_new = resize_appropriately(normalized_image, template_image)\n",
    "assert image.shape == template_new.shape\n",
    "i=0\n",
    "convol = 0\n",
    "img_chosen = None\n",
    "for size in sizes:\n",
    "    img_resized_only, _ = resize_appropriately(resize_image(image,size), template_new)\n",
    "    for angle,movement_x,movement_y in product(angles,movements_x, movements_y):\n",
    "        i+=1\n",
    "        if i%10 == 0:\n",
    "            print(angle, movement_x, movement_y)\n",
    "        img = rotate_image(img_resized_only, angle)\n",
    "        img = move_image(img,movement_x,movement_y)\n",
    "        assert img.shape == template_new.shape\n",
    "        new_convolute = convolute(img, template_new)\n",
    "        if new_convolute > convol:\n",
    "            convol = new_convolute\n",
    "            img_chosen = img\n",
    "        \n",
    "        "
   ]
  },
  {
   "cell_type": "code",
   "execution_count": null,
   "metadata": {},
   "outputs": [],
   "source": [
    "comparison_image = img_chosen/3 + template_new\n",
    "print(f\"Match found for page {page}\")\n",
    "plt.figure(figsize = (10,10))\n",
    "plt.imshow(comparison_image)\n",
    "plt.show()"
   ]
  },
  {
   "cell_type": "code",
   "execution_count": null,
   "metadata": {
    "hideCode": false,
    "hidePrompt": false
   },
   "outputs": [],
   "source": [
    "img1, img2 = add_black_points(normalized_image, fitted_image)\n",
    "\n",
    "\n",
    "print(f\"Match found for page {page}\")\n",
    "plt.figure(figsize = (10,10))\n",
    "plt.imshow(np.clip(510-img1 - img2,a_max=255, a_min=0))\n",
    "\n",
    "plt.show()\n",
    "\n"
   ]
  },
  {
   "cell_type": "code",
   "execution_count": null,
   "metadata": {
    "hideCode": false,
    "hidePrompt": false
   },
   "outputs": [],
   "source": []
  }
 ],
 "metadata": {
  "hide_code_all_hidden": false,
  "hide_input": false,
  "kernelspec": {
   "display_name": "Python [conda env:fast-form]",
   "language": "python",
   "name": "conda-env-fast-form-py"
  },
  "language_info": {
   "codemirror_mode": {
    "name": "ipython",
    "version": 3
   },
   "file_extension": ".py",
   "mimetype": "text/x-python",
   "name": "python",
   "nbconvert_exporter": "python",
   "pygments_lexer": "ipython3",
   "version": "3.7.9"
  },
  "toc": {
   "base_numbering": 1,
   "nav_menu": {},
   "number_sections": true,
   "sideBar": true,
   "skip_h1_title": false,
   "title_cell": "Table of Contents",
   "title_sidebar": "Contents",
   "toc_cell": false,
   "toc_position": {},
   "toc_section_display": true,
   "toc_window_display": false
  },
  "varInspector": {
   "cols": {
    "lenName": 16,
    "lenType": 16,
    "lenVar": 40
   },
   "kernels_config": {
    "python": {
     "delete_cmd_postfix": "",
     "delete_cmd_prefix": "del ",
     "library": "var_list.py",
     "varRefreshCmd": "print(var_dic_list())"
    },
    "r": {
     "delete_cmd_postfix": ") ",
     "delete_cmd_prefix": "rm(",
     "library": "var_list.r",
     "varRefreshCmd": "cat(var_dic_list()) "
    }
   },
   "types_to_exclude": [
    "module",
    "function",
    "builtin_function_or_method",
    "instance",
    "_Feature"
   ],
   "window_display": false
  }
 },
 "nbformat": 4,
 "nbformat_minor": 4
}
