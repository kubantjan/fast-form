{
 "cells": [
  {
   "cell_type": "code",
   "execution_count": null,
   "metadata": {},
   "outputs": [],
   "source": [
    "    %load_ext autoreload\n",
    "\n",
    "    %autoreload 2\n",
    "import os\n",
    "cwd = os.getcwd()\n",
    "while not cwd.endswith(\"fast-form\"):\n",
    "    os.chdir(\"../\")\n",
    "    cwd = os.getcwd()\n",
    "print(f\"CWD is: {cwd}\")"
   ]
  },
  {
   "cell_type": "code",
   "execution_count": null,
   "metadata": {},
   "outputs": [],
   "source": [
    "import json\n",
    "import cv2\n",
    "import matplotlib.pyplot as plt"
   ]
  },
  {
   "cell_type": "code",
   "execution_count": null,
   "metadata": {},
   "outputs": [],
   "source": [
    "from IPython.display import Image\n",
    "import PIL.Image"
   ]
  },
  {
   "cell_type": "code",
   "execution_count": null,
   "metadata": {},
   "outputs": [],
   "source": [
    "template_path = \"./tests/form_for_test/template.jpg\"\n",
    "document_path = \"./tests/form_for_test/document.jpg\"\n",
    "\n",
    "template_path = \"./real_forms/justyna_dotazniky/template.pdf\"\n",
    "document_path = \"./real_forms/justyna_dotazniky/document.jpg\"\n",
    "\n",
    "template_path = \"./real_forms/justyna_dotazniky/template.pdf\"\n",
    "document_path = \"./real_forms/justyna_dotazniky/justyna_scan_1.pdf\""
   ]
  },
  {
   "cell_type": "code",
   "execution_count": null,
   "metadata": {},
   "outputs": [],
   "source": [
    "from preprocessing.preprocess import normalize\n",
    "from preprocessing.templating import get_templates"
   ]
  },
  {
   "cell_type": "code",
   "execution_count": null,
   "metadata": {},
   "outputs": [],
   "source": [
    "from utils.image_loading import load_images_from_path"
   ]
  },
  {
   "cell_type": "code",
   "execution_count": null,
   "metadata": {},
   "outputs": [],
   "source": [
    "N=7"
   ]
  },
  {
   "cell_type": "code",
   "execution_count": null,
   "metadata": {},
   "outputs": [],
   "source": [
    "%matplotlib inline\n",
    "# template_img = cv2.imread(template_path)\n",
    "# plt.imshow(template_img)\n",
    "# plt.show()\n",
    "images = load_images_from_path(document_path)\n",
    "for image in images[:2]:\n",
    "    plt.figure(figsize = (10,10))\n",
    "    plt.imshow(image)\n",
    "    \n",
    "    plt.show()\n",
    "    \n",
    "image = images[N]"
   ]
  },
  {
   "cell_type": "code",
   "execution_count": null,
   "metadata": {},
   "outputs": [],
   "source": [
    "%matplotlib inline\n",
    "# im = normalize(template_img)\n",
    "# plt.figure(figsize = (10,10))\n",
    "# plt.imshow(im)\n",
    "# plt.show()\n",
    "normalized_image = normalize(image)\n",
    "plt.figure(figsize = (10,10))\n",
    "plt.imshow(normalized_image)\n",
    "plt.show()"
   ]
  },
  {
   "cell_type": "code",
   "execution_count": null,
   "metadata": {},
   "outputs": [],
   "source": [
    "from preprocessing.preprocess import fit_image_to_templates\n",
    "from preprocessing.templating import get_templates"
   ]
  },
  {
   "cell_type": "code",
   "execution_count": null,
   "metadata": {},
   "outputs": [],
   "source": [
    "templates = get_templates(template_path)"
   ]
  },
  {
   "cell_type": "code",
   "execution_count": null,
   "metadata": {},
   "outputs": [],
   "source": [
    "templates_to_use = [templates[N]]"
   ]
  },
  {
   "cell_type": "code",
   "execution_count": null,
   "metadata": {},
   "outputs": [],
   "source": [
    "fitted_image, page = fit_image_to_templates(normalized_image, templates_to_use)\n",
    "template_image = template_first[0].image"
   ]
  },
  {
   "cell_type": "code",
   "execution_count": null,
   "metadata": {},
   "outputs": [],
   "source": [
    "comparison_image = template_image/3 + template_image"
   ]
  },
  {
   "cell_type": "code",
   "execution_count": null,
   "metadata": {},
   "outputs": [],
   "source": [
    "print(f\"Match found for page {page}\")\n",
    "plt.figure(figsize = (10,10))\n",
    "plt.imshow(comparison_image)\n",
    "plt.show()"
   ]
  },
  {
   "cell_type": "code",
   "execution_count": null,
   "metadata": {},
   "outputs": [],
   "source": [
    "# Print compare the fitted with the original\n",
    "\n",
    "x_dim = min(fitted_image.shape[0], normalized_image.shape[0])\n",
    "y_dim = min(fitted_image.shape[1], normalized_image.shape[1])\n",
    "\n",
    "\n",
    "original_for_show = normalized_image[:y_dim, :x_dim]\n",
    "fitted_image = fitted_image[:y_dim, :x_dim]\n",
    "\n",
    "\n",
    "print(f\"Match found for page {page}\")\n",
    "plt.figure(figsize = (10,10))\n",
    "plt.imshow(original_for_show/3 + fitted_image)\n",
    "\n",
    "plt.show()"
   ]
  },
  {
   "cell_type": "code",
   "execution_count": null,
   "metadata": {},
   "outputs": [],
   "source": []
  }
 ],
 "metadata": {
  "hide_input": false,
  "kernelspec": {
   "display_name": "Python [conda env:fast-form]",
   "language": "python",
   "name": "conda-env-fast-form-py"
  },
  "language_info": {
   "codemirror_mode": {
    "name": "ipython",
    "version": 3
   },
   "file_extension": ".py",
   "mimetype": "text/x-python",
   "name": "python",
   "nbconvert_exporter": "python",
   "pygments_lexer": "ipython3",
   "version": "3.7.9"
  },
  "toc": {
   "base_numbering": 1,
   "nav_menu": {},
   "number_sections": true,
   "sideBar": true,
   "skip_h1_title": false,
   "title_cell": "Table of Contents",
   "title_sidebar": "Contents",
   "toc_cell": false,
   "toc_position": {},
   "toc_section_display": true,
   "toc_window_display": false
  },
  "varInspector": {
   "cols": {
    "lenName": 16,
    "lenType": 16,
    "lenVar": 40
   },
   "kernels_config": {
    "python": {
     "delete_cmd_postfix": "",
     "delete_cmd_prefix": "del ",
     "library": "var_list.py",
     "varRefreshCmd": "print(var_dic_list())"
    },
    "r": {
     "delete_cmd_postfix": ") ",
     "delete_cmd_prefix": "rm(",
     "library": "var_list.r",
     "varRefreshCmd": "cat(var_dic_list()) "
    }
   },
   "types_to_exclude": [
    "module",
    "function",
    "builtin_function_or_method",
    "instance",
    "_Feature"
   ],
   "window_display": false
  }
 },
 "nbformat": 4,
 "nbformat_minor": 4
}
