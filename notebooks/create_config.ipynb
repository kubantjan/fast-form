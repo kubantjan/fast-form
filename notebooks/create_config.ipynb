{
 "cells": [
  {
   "cell_type": "code",
   "execution_count": null,
   "metadata": {},
   "outputs": [],
   "source": [
    "%load_ext autoreload\n",
    "\n",
    "%autoreload 2\n",
    "import os\n",
    "cwd = os.getcwd()\n",
    "while not cwd.endswith(\"fast-form\"):\n",
    "    os.chdir(\"../\")\n",
    "    cwd = os.getcwd()\n",
    "print(f\"CWD is: {cwd}\")"
   ]
  },
  {
   "cell_type": "code",
   "execution_count": null,
   "metadata": {},
   "outputs": [],
   "source": [
    "import cv2\n",
    "import json\n",
    "import matplotlib.pyplot as plt\n",
    "from structure_parser.form_structure_parser import FormStructureParser, FormData, Field, Orientation, FieldType, Point\n",
    "\n",
    "from preprocessing.preprocess import preprocess\n",
    "from IPython.display import Image\n",
    "import PIL.Image\n",
    "import matplotlib"
   ]
  },
  {
   "cell_type": "code",
   "execution_count": null,
   "metadata": {
    "hideCode": false,
    "hidePrompt": false,
    "pycharm": {
     "name": "#%%\n"
    }
   },
   "outputs": [],
   "source": [
    "template_path = \"./real_forms/justyna_dotazniky/template.pdf\"\n",
    "document_path = \"./real_forms/justyna_dotazniky/document.jpg\"\n",
    "config_path = './real_forms/justyna_dotazniky/config.json'"
   ]
  },
  {
   "cell_type": "code",
   "execution_count": null,
   "metadata": {},
   "outputs": [],
   "source": [
    "from preprocessing.preprocess import normalize\n",
    "from preprocessing.templating import get_templates\n",
    "from pdf2image import convert_from_path\n",
    "from utils.image_loading import to_cv_image\n",
    "from utils.image_loading import load_images_from_path"
   ]
  },
  {
   "cell_type": "code",
   "execution_count": null,
   "metadata": {},
   "outputs": [],
   "source": [
    "template_images = load_images_from_path(template_path)\n",
    "image = template_images[0]\n",
    "image = normalize(image)\n",
    "plt.imshow(image)\n",
    "plt.show()"
   ]
  },
  {
   "cell_type": "code",
   "execution_count": null,
   "metadata": {},
   "outputs": [],
   "source": [
    "N=20\n",
    "y_start = 673\n",
    "x_start = 1275\n",
    "width=955\n",
    "line_step=128\n",
    "line_height=90\n",
    "fields=[]\n",
    "for i in range(N):\n",
    "    fields.append(\n",
    "        Field(\n",
    "            orientation=Orientation.HORIZONTAL,\n",
    "            space_between_boxes=80,\n",
    "            name=f\"test{i}\",\n",
    "            type=FieldType.SINGLE_CHOICE,\n",
    "            top_left=Point(x_start,y_start+i*line_step),\n",
    "            bottom_right=Point(x_start+width,y_start+line_height+i*line_step),\n",
    "            number_of_boxes=4\n",
    "        )\n",
    "    )"
   ]
  },
  {
   "cell_type": "code",
   "execution_count": null,
   "metadata": {},
   "outputs": [],
   "source": [
    "import dataclasses\n",
    "new_config = dataclasses.asdict(FormData(fields=fields))\n",
    "\n",
    "form_structure_parser = FormStructureParser(new_config)\n",
    "form_data = form_structure_parser.process_form(image)\n",
    "\n",
    "\n",
    "\n",
    "for field in form_data.fields:\n",
    "    display(PIL.Image.fromarray(field.img))\n",
    "    for letter_img in field.box_images:\n",
    "        if len(letter_img)>0:\n",
    "            display(PIL.Image.fromarray(letter_img))"
   ]
  },
  {
   "cell_type": "code",
   "execution_count": null,
   "metadata": {},
   "outputs": [],
   "source": [
    "import json\n",
    "import dataclasses\n",
    "with open(\"real_forms/justyna_dotazniky/config.json\", 'w') as fp:\n",
    "    json.dump(dataclasses.asdict(FormData(fields=fields)), fp)"
   ]
  },
  {
   "cell_type": "code",
   "execution_count": null,
   "metadata": {},
   "outputs": [],
   "source": []
  }
 ],
 "metadata": {
  "hide_code_all_hidden": false,
  "hide_input": false,
  "kernelspec": {
   "display_name": "Python [conda env:fast-form]",
   "language": "python",
   "name": "conda-env-fast-form-py"
  },
  "language_info": {
   "codemirror_mode": {
    "name": "ipython",
    "version": 3
   },
   "file_extension": ".py",
   "mimetype": "text/x-python",
   "name": "python",
   "nbconvert_exporter": "python",
   "pygments_lexer": "ipython3",
   "version": "3.7.9"
  },
  "toc": {
   "base_numbering": 1,
   "nav_menu": {},
   "number_sections": true,
   "sideBar": true,
   "skip_h1_title": false,
   "title_cell": "Table of Contents",
   "title_sidebar": "Contents",
   "toc_cell": false,
   "toc_position": {},
   "toc_section_display": true,
   "toc_window_display": false
  },
  "varInspector": {
   "cols": {
    "lenName": 16,
    "lenType": 16,
    "lenVar": 40
   },
   "kernels_config": {
    "python": {
     "delete_cmd_postfix": "",
     "delete_cmd_prefix": "del ",
     "library": "var_list.py",
     "varRefreshCmd": "print(var_dic_list())"
    },
    "r": {
     "delete_cmd_postfix": ") ",
     "delete_cmd_prefix": "rm(",
     "library": "var_list.r",
     "varRefreshCmd": "cat(var_dic_list()) "
    }
   },
   "types_to_exclude": [
    "module",
    "function",
    "builtin_function_or_method",
    "instance",
    "_Feature"
   ],
   "window_display": false
  }
 },
 "nbformat": 4,
 "nbformat_minor": 4
}
