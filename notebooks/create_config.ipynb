{
 "cells": [
  {
   "cell_type": "code",
   "execution_count": null,
   "metadata": {},
   "outputs": [],
   "source": [
    "from typing import List\n",
    "from notebooks.utils_for_config_creation.utils import get_fields_for_page\n",
    "\n",
    "from structure_parser.page_structure_parser import PageStructureParser\n",
    "%load_ext autoreload\n",
    "\n",
    "%autoreload 2\n",
    "import os\n",
    "cwd = os.getcwd()\n",
    "while not cwd.endswith(\"fast-form\"):\n",
    "    os.chdir(\"../\")\n",
    "    cwd = os.getcwd()\n",
    "print(f\"CWD is: {cwd}\")"
   ]
  },
  {
   "cell_type": "code",
   "execution_count": null,
   "metadata": {},
   "outputs": [],
   "source": [
    "import matplotlib.pyplot as plt\n",
    "from structure_parser.form_structure_dataclasses import Field, Orientation, FieldType, Point, FormPageData, FormData\n",
    "import PIL.Image"
   ]
  },
  {
   "cell_type": "code",
   "execution_count": null,
   "metadata": {
    "hideCode": false,
    "hidePrompt": false,
    "pycharm": {
     "name": "#%%\n"
    }
   },
   "outputs": [],
   "source": [
    "template_path = \"./real_forms/justyna_dotazniky/template.pdf\"\n",
    "document_path = \"./real_forms/justyna_dotazniky/document.jpg\"\n",
    "config_path = './real_forms/justyna_dotazniky/config.json'"
   ]
  },
  {
   "cell_type": "code",
   "execution_count": null,
   "metadata": {},
   "outputs": [],
   "source": [
    "from preprocessing.preprocess import normalize\n",
    "from utils.image_loading import load_images_from_path"
   ]
  },
  {
   "cell_type": "code",
   "execution_count": null,
   "metadata": {},
   "outputs": [],
   "source": [
    "template_images = load_images_from_path(template_path)\n",
    "image = template_images[0]\n",
    "image = normalize(image)\n",
    "plt.imshow(image)\n",
    "plt.show()"
   ]
  },
  {
   "cell_type": "code",
   "execution_count": null,
   "metadata": {},
   "outputs": [],
   "source": [
    "page_count = len(template_images)\n",
    "questions_per_page=20\n",
    "y_start = 673\n",
    "x_start = 1275\n",
    "width=955\n",
    "line_step=128\n",
    "line_height=90\n"
   ]
  },
  {
   "cell_type": "code",
   "execution_count": null,
   "metadata": {
    "pycharm": {
     "name": "#%%\n"
    }
   },
   "outputs": [],
   "source": [
    "form_page_data_dict = dict()\n",
    "for i in range(page_count):\n",
    "    fields = get_fields_for_page(questions_per_page,y_start,x_start,width,line_step,line_height,1+i*questions_per_page)\n",
    "    form_page_data_structure = FormPageData(fields=fields)\n",
    "    form_page_data_dict[f\"{i}\"] = form_page_data_structure\n",
    "form_data = FormData(\n",
    "    page_count=page_count,\n",
    "    form_page_data=form_page_data_dict\n",
    ")"
   ]
  },
  {
   "cell_type": "code",
   "execution_count": null,
   "metadata": {
    "pycharm": {
     "name": "#%%\n"
    }
   },
   "outputs": [],
   "source": [
    "page_structure_parser = PageStructureParser(form_data.form_page_data[\"1\"])\n",
    "page_data = page_structure_parser.process_page(image)\n",
    "\n",
    "for field in page_data.fields:\n",
    "    display(PIL.Image.fromarray(field.img))\n",
    "    for letter_img in field.box_images:\n",
    "        if len(letter_img)>0:\n",
    "            display(PIL.Image.fromarray(letter_img))"
   ]
  },
  {
   "cell_type": "code",
   "execution_count": null,
   "metadata": {},
   "outputs": [],
   "source": [
    "import json\n",
    "import dataclasses\n",
    "with open(\"real_forms/justyna_dotazniky/config.json\", 'w') as fp:\n",
    "    json.dump(dataclasses.asdict(form_data), fp)"
   ]
  },
  {
   "cell_type": "code",
   "execution_count": null,
   "metadata": {},
   "outputs": [],
   "source": []
  }
 ],
 "metadata": {
  "hide_code_all_hidden": false,
  "hide_input": false,
  "kernelspec": {
   "display_name": "Python [conda env:fast-form]",
   "language": "python",
   "name": "conda-env-fast-form-py"
  },
  "language_info": {
   "codemirror_mode": {
    "name": "ipython",
    "version": 3
   },
   "file_extension": ".py",
   "mimetype": "text/x-python",
   "name": "python",
   "nbconvert_exporter": "python",
   "pygments_lexer": "ipython3",
   "version": "3.7.9"
  },
  "toc": {
   "base_numbering": 1,
   "nav_menu": {},
   "number_sections": true,
   "sideBar": true,
   "skip_h1_title": false,
   "title_cell": "Table of Contents",
   "title_sidebar": "Contents",
   "toc_cell": false,
   "toc_position": {},
   "toc_section_display": true,
   "toc_window_display": false
  },
  "varInspector": {
   "cols": {
    "lenName": 16,
    "lenType": 16,
    "lenVar": 40
   },
   "kernels_config": {
    "python": {
     "delete_cmd_postfix": "",
     "delete_cmd_prefix": "del ",
     "library": "var_list.py",
     "varRefreshCmd": "print(var_dic_list())"
    },
    "r": {
     "delete_cmd_postfix": ") ",
     "delete_cmd_prefix": "rm(",
     "library": "var_list.r",
     "varRefreshCmd": "cat(var_dic_list()) "
    }
   },
   "types_to_exclude": [
    "module",
    "function",
    "builtin_function_or_method",
    "instance",
    "_Feature"
   ],
   "window_display": false
  }
 },
 "nbformat": 4,
 "nbformat_minor": 4
}
