{
 "cells": [
  {
   "cell_type": "code",
   "execution_count": null,
   "metadata": {},
   "outputs": [],
   "source": [
    "%load_ext autoreload\n",
    "\n",
    "%autoreload 2\n",
    "import os\n",
    "cwd = os.getcwd()\n",
    "while not cwd.endswith(\"fast-form\"):\n",
    "    os.chdir(\"../\")\n",
    "    cwd = os.getcwd()\n",
    "print(f\"CWD is: {cwd}\")"
   ]
  },
  {
   "cell_type": "code",
   "execution_count": null,
   "metadata": {},
   "outputs": [],
   "source": [
    "import cv2\n",
    "import json\n",
    "import matplotlib.pyplot as plt\n",
    "from structure_parser.form_structure_parser import FormStructureParser\n",
    "\n",
    "from preprocessing.preprocess import preprocess\n",
    "from IPython.display import Image\n",
    "import PIL.Image\n",
    "import matplotlib"
   ]
  },
  {
   "cell_type": "code",
   "execution_count": null,
   "metadata": {
    "hideCode": false,
    "hidePrompt": false,
    "pycharm": {
     "name": "#%%\n"
    }
   },
   "outputs": [],
   "source": [
    "template_path = \"./tests/form_for_test/template.jpg\"\n",
    "document_path = \"./tests/form_for_test/document.jpg\"\n",
    "config_path = './tests/form_for_test/config.json'\n",
    "\n",
    "template_path = \"./real_forms/justyna_dotazniky/template.pdf\"\n",
    "document_path = \"./real_forms/justyna_dotazniky/document.jpg\"\n",
    "config_path = './real_forms/justyna_dotazniky/config.json'\n",
    "\n",
    "template_path = \"./real_forms/justyna_dotazniky/template.pdf\"\n",
    "document_path = \"./real_forms/justyna_dotazniky/justyna_scan_1.pdf\""
   ]
  },
  {
   "cell_type": "code",
   "execution_count": null,
   "metadata": {},
   "outputs": [],
   "source": [
    "from preprocessing.preprocess import preprocess\n",
    "from preprocessing.templating import get_templates\n",
    "from utils.image_loading import load_images_from_path"
   ]
  },
  {
   "cell_type": "code",
   "execution_count": null,
   "metadata": {},
   "outputs": [],
   "source": [
    "# templates = get_templates(template_path)"
   ]
  },
  {
   "cell_type": "code",
   "execution_count": null,
   "metadata": {},
   "outputs": [],
   "source": [
    "images = load_images_from_path(document_path)\n",
    "    \n",
    "image = images[0]\n",
    "\n",
    "img = preprocess(image, [templates[0]])\n",
    "\n",
    "plt.imshow(img)\n",
    "plt.show()"
   ]
  },
  {
   "cell_type": "code",
   "execution_count": null,
   "metadata": {},
   "outputs": [],
   "source": [
    "with open(config_path, 'r') as f:\n",
    "    form_structure_parser = FormStructureParser(json.load(f))\n",
    "form_data = form_structure_parser.process_form(img)\n",
    "\n",
    "\n",
    "for field in form_data.fields:\n",
    "    display(PIL.Image.fromarray(field.img))\n",
    "    for letter_img in field.box_data:\n",
    "        if len(letter_img)>0:\n",
    "            display(PIL.Image.fromarray(letter_img))"
   ]
  }
 ],
 "metadata": {
  "hide_code_all_hidden": false,
  "hide_input": false,
  "kernelspec": {
   "display_name": "Python [conda env:fast-form]",
   "language": "python",
   "name": "conda-env-fast-form-py"
  },
  "language_info": {
   "codemirror_mode": {
    "name": "ipython",
    "version": 3
   },
   "file_extension": ".py",
   "mimetype": "text/x-python",
   "name": "python",
   "nbconvert_exporter": "python",
   "pygments_lexer": "ipython3",
   "version": "3.7.9"
  },
  "toc": {
   "base_numbering": 1,
   "nav_menu": {},
   "number_sections": true,
   "sideBar": true,
   "skip_h1_title": false,
   "title_cell": "Table of Contents",
   "title_sidebar": "Contents",
   "toc_cell": false,
   "toc_position": {},
   "toc_section_display": true,
   "toc_window_display": false
  },
  "varInspector": {
   "cols": {
    "lenName": 16,
    "lenType": 16,
    "lenVar": 40
   },
   "kernels_config": {
    "python": {
     "delete_cmd_postfix": "",
     "delete_cmd_prefix": "del ",
     "library": "var_list.py",
     "varRefreshCmd": "print(var_dic_list())"
    },
    "r": {
     "delete_cmd_postfix": ") ",
     "delete_cmd_prefix": "rm(",
     "library": "var_list.r",
     "varRefreshCmd": "cat(var_dic_list()) "
    }
   },
   "types_to_exclude": [
    "module",
    "function",
    "builtin_function_or_method",
    "instance",
    "_Feature"
   ],
   "window_display": false
  }
 },
 "nbformat": 4,
 "nbformat_minor": 4
}
