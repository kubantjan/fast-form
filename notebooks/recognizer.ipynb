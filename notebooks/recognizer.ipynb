{
 "cells": [
  {
   "cell_type": "code",
   "execution_count": null,
   "metadata": {},
   "outputs": [],
   "source": [
    "%load_ext autoreload\n",
    "\n",
    "%autoreload 2\n",
    "import os\n",
    "cwd = os.getcwd()\n",
    "while not cwd.endswith(\"fast-form\"):\n",
    "    os.chdir(\"../\")\n",
    "    cwd = os.getcwd()\n",
    "print(f\"CWD is: {cwd}\")"
   ]
  },
  {
   "cell_type": "code",
   "execution_count": null,
   "metadata": {},
   "outputs": [],
   "source": [
    "import cv2\n",
    "import json\n",
    "import matplotlib.pyplot as plt\n",
    "from structure_parser.form_structure_parser import FormStructureParser\n",
    "\n",
    "from preprocessing.preprocess import preprocess\n",
    "from IPython.display import Image\n",
    "import PIL.Image\n",
    "import matplotlib"
   ]
  },
  {
   "cell_type": "code",
   "execution_count": null,
   "metadata": {},
   "outputs": [],
   "source": [
    "import json\n",
    "import cv2\n",
    "from IPython.display import Image\n",
    "from preprocessing.preprocess import preprocess, normalize\n",
    "from preprocessing.templating import get_templates\n",
    "from outputting.process_document import load_models\n",
    "from field_recognizer.recognize_all import recognize\n",
    "import PIL.Image\n",
    "\n",
    "from field_recognizer.model import load_model, load_result_mapper"
   ]
  },
  {
   "cell_type": "code",
   "execution_count": null,
   "metadata": {},
   "outputs": [],
   "source": [
    "from field_recognizer.recognize_all import recognize"
   ]
  },
  {
   "cell_type": "code",
   "execution_count": null,
   "metadata": {},
   "outputs": [],
   "source": [
    "template_path = \"./tests/form_for_test/template.jpg\"\n",
    "image_path = \"./tests/form_for_test/image.jpg\"\n",
    "\n",
    "template_path = \"./real_forms/justyna_dotazniky/template.pdf\"\n",
    "image_path = \"./real_forms/justyna_dotazniky/document.jpg\"\n",
    "\n",
    "config_path = \"./tests/form_for_test/config.json\"\n",
    "config_path = \"./real_forms/justyna_dotazniky/config.json\"\n",
    "with open(config_path, 'r') as f:\n",
    "    form_structure_parser = FormStructureParser(json.load(f))\n"
   ]
  },
  {
   "cell_type": "code",
   "execution_count": null,
   "metadata": {},
   "outputs": [],
   "source": [
    "templates = get_templates(template_path)\n",
    "templates.templates = [templates.templates[0]]"
   ]
  },
  {
   "cell_type": "code",
   "execution_count": null,
   "metadata": {},
   "outputs": [],
   "source": [
    "image = cv2.imread(image_path)\n",
    "image_preprocessed = preprocess(image, templates)"
   ]
  },
  {
   "cell_type": "code",
   "execution_count": null,
   "metadata": {},
   "outputs": [],
   "source": [
    "models = load_models(\"model_data\")"
   ]
  },
  {
   "cell_type": "code",
   "execution_count": null,
   "metadata": {},
   "outputs": [],
   "source": [
    "form_data = form_structure_parser.process_form(image_preprocessed)"
   ]
  },
  {
   "cell_type": "code",
   "execution_count": null,
   "metadata": {},
   "outputs": [],
   "source": [
    "form_data = form_structure_parser.process_form(templates.templates[0].image)"
   ]
  },
  {
   "cell_type": "code",
   "execution_count": null,
   "metadata": {},
   "outputs": [],
   "source": [
    "form_data = recognize(form_data, models)"
   ]
  },
  {
   "cell_type": "code",
   "execution_count": null,
   "metadata": {},
   "outputs": [],
   "source": [
    "for field in form_data.fields:\n",
    "    print(field.name)\n",
    "    print(\"\".join(map(str,field.recognized)))\n",
    "    for img, val, acc, new_img in list(zip(field.box_data,\n",
    "                                           field.recognized,\n",
    "                                           field.accuracy,\n",
    "                                           field.box_data_transf)):\n",
    "        print(f\"'{val}' with accuracy {acc}\")\n",
    "        print(\"box_type:{}\".format(field.type))\n",
    "\n",
    "        if len(img)>0:\n",
    "            display(PIL.Image.fromarray(img))\n",
    "        if len(new_img)>0:\n",
    "            display(PIL.Image.fromarray(new_img))\n",
    "        if field.type == \"letters\":\n",
    "            l.append(new_img)\n",
    "        print(\"_________________________________________\")"
   ]
  },
  {
   "cell_type": "code",
   "execution_count": null,
   "metadata": {},
   "outputs": [],
   "source": [
    "import pandas as pd"
   ]
  },
  {
   "cell_type": "code",
   "execution_count": null,
   "metadata": {},
   "outputs": [],
   "source": [
    "pd.DataFrame.from_dict({\"a\":{\"a\":1,\"b\":2,\"c\":3}},orient=\"index\")"
   ]
  },
  {
   "cell_type": "code",
   "execution_count": null,
   "metadata": {},
   "outputs": [],
   "source": [
    "aa = dict()"
   ]
  },
  {
   "cell_type": "code",
   "execution_count": null,
   "metadata": {},
   "outputs": [],
   "source": [
    "answer = [\"a\", \"B\"]\n",
    "\n",
    "aa[\"data\"] = answer[1]"
   ]
  },
  {
   "cell_type": "code",
   "execution_count": null,
   "metadata": {},
   "outputs": [],
   "source": [
    "aa"
   ]
  },
  {
   "cell_type": "code",
   "execution_count": null,
   "metadata": {},
   "outputs": [],
   "source": [
    "field_dict = dict()\n",
    "if True:\n",
    "    answer = \"a\"\n",
    "\n",
    "field_dict['test'] = str(answer)"
   ]
  },
  {
   "cell_type": "code",
   "execution_count": null,
   "metadata": {},
   "outputs": [],
   "source": [
    "field_dict"
   ]
  },
  {
   "cell_type": "code",
   "execution_count": null,
   "metadata": {},
   "outputs": [],
   "source": []
  }
 ],
 "metadata": {
  "hide_input": false,
  "kernelspec": {
   "display_name": "Python 3",
   "language": "python",
   "name": "python3"
  },
  "language_info": {
   "codemirror_mode": {
    "name": "ipython",
    "version": 3
   },
   "file_extension": ".py",
   "mimetype": "text/x-python",
   "name": "python",
   "nbconvert_exporter": "python",
   "pygments_lexer": "ipython3",
   "version": "3.8.3"
  },
  "toc": {
   "base_numbering": 1,
   "nav_menu": {},
   "number_sections": true,
   "sideBar": true,
   "skip_h1_title": false,
   "title_cell": "Table of Contents",
   "title_sidebar": "Contents",
   "toc_cell": false,
   "toc_position": {},
   "toc_section_display": true,
   "toc_window_display": false
  },
  "varInspector": {
   "cols": {
    "lenName": 16,
    "lenType": 16,
    "lenVar": 40
   },
   "kernels_config": {
    "python": {
     "delete_cmd_postfix": "",
     "delete_cmd_prefix": "del ",
     "library": "var_list.py",
     "varRefreshCmd": "print(var_dic_list())"
    },
    "r": {
     "delete_cmd_postfix": ") ",
     "delete_cmd_prefix": "rm(",
     "library": "var_list.r",
     "varRefreshCmd": "cat(var_dic_list()) "
    }
   },
   "types_to_exclude": [
    "module",
    "function",
    "builtin_function_or_method",
    "instance",
    "_Feature"
   ],
   "window_display": false
  }
 },
 "nbformat": 4,
 "nbformat_minor": 4
}
